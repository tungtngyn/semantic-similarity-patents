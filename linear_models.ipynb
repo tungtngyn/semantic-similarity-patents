{
 "cells": [
  {
   "cell_type": "markdown",
   "metadata": {},
   "source": [
    "# Linear Models for Semantic Similarity Predictions\n",
    "\n",
    "Dataset: [Semantic Similarity Predictions for Phrases in U.S. Patents](https://www.kaggle.com/competitions/us-patent-phrase-to-phrase-matching)\n",
    "\n",
    "This notebook contains first-cut analysis & linear similarity prediction models"
   ]
  },
  {
   "cell_type": "markdown",
   "metadata": {},
   "source": [
    "### Approach\n",
    "---\n",
    "\n",
    "The goal of the dataset is to predict the semantic similarity score ($s \\in [0.00, 0.25, 0.50, 0.75, 1.00]$) between an anchor phrase and a target phrase, with 0 being completely unrelated and 1 being closely related.\n",
    "\n",
    "After performing exploratory data analysis, a few important observations can be made:\n",
    "\n",
    "* Phrases themselves are relatively short (~2 words) with the majority of phrase pairs not sharing any words, thus, simple methods such as the distance between pairs of bag-of-words or TF-IDF vectors will not perform well.\n",
    "\n",
    "* Similarity scores are on a scale of 0 to 1, but also grouped into 5 discrete buckets, thus, the problem can be cast as both a regression or multiclass classification problem.\n",
    "\n",
    "This notebook will attempt to predict the similarity score using the following algorithms:\n",
    "\n",
    "* Linear Regression, Logistic Regression\n",
    "\n",
    "with the following feature engineering approaches:\n",
    "\n",
    "* Levenshtein distance (e.g. edit distance) b/t anchor & target phrase as the feature\n",
    "\n",
    "* Various permutations of pre-trained spaCy word vectors as the features (avg, multiply, cosine similarity, etc.)\n",
    "\n",
    "* Various permutations of custom-trained word vectors as the features (Refer to: train-patents-embeddings.ipynb)"
   ]
  },
  {
   "cell_type": "markdown",
   "metadata": {},
   "source": [
    "### Preprocessing\n",
    "---"
   ]
  },
  {
   "cell_type": "code",
   "execution_count": 35,
   "metadata": {},
   "outputs": [],
   "source": [
    "import pandas as pd\n",
    "import numpy as np\n",
    "import matplotlib.pyplot as plt\n",
    "import spacy\n",
    "\n",
    "from nltk.stem import WordNetLemmatizer, PorterStemmer\n",
    "from nltk.corpus import stopwords\n",
    "from nltk.tokenize import word_tokenize\n",
    "\n",
    "from Levenshtein import distance as edit_dist\n",
    "\n",
    "from sklearn.metrics import auc, roc_curve, precision_recall_curve\n",
    "from sklearn.multiclass import OneVsRestClassifier\n",
    "from sklearn.preprocessing import StandardScaler, LabelEncoder, label_binarize\n",
    "from sklearn.model_selection import train_test_split\n",
    "from sklearn.linear_model import LinearRegression, RidgeCV, ElasticNetCV, LogisticRegressionCV\n",
    "from sklearn.metrics import r2_score, mean_squared_error\n",
    "from sklearn.metrics.pairwise import cosine_similarity"
   ]
  },
  {
   "cell_type": "code",
   "execution_count": 16,
   "metadata": {},
   "outputs": [],
   "source": [
    "df_train_val = pd.read_csv('./data/train.csv')\n",
    "df_test = pd.read_csv('./data/test.csv')\n",
    "df_titles = pd.read_csv('./data/titles.csv')\n",
    "\n",
    "df_train, df_val = train_test_split(df_train_val, test_size=0.2, random_state=1)\n",
    "\n",
    "#df_train['title'] = df_train['context'].map(lambda x: df_titles[df_titles.code == x]['title'])"
   ]
  },
  {
   "cell_type": "code",
   "execution_count": 17,
   "metadata": {},
   "outputs": [],
   "source": [
    "lm = WordNetLemmatizer()\n",
    "ps = PorterStemmer()\n",
    "\n",
    "def lemmatize(text):\n",
    "    return lm.lemmatize(text)\n",
    "\n",
    "def stem(text):\n",
    "    return ps.stem(text)\n",
    "\n",
    "def remove_stopwords(tokens):\n",
    "    tokens = [token.lower().strip() for token in tokens]\n",
    "    filtered_tokens = [token for token in tokens if token not in stopwords.words('english')]\n",
    "    return filtered_tokens\n",
    "\n",
    "def preprocess(sent, method='lem'):\n",
    "    tokens = word_tokenize(sent)\n",
    "    filtered_tokens = remove_stopwords(tokens)\n",
    "    \n",
    "    if method == 'lem':\n",
    "        tokens = [lemmatize(token) for token in filtered_tokens]\n",
    "    else:\n",
    "        tokens = [stem(token) for token in filtered_tokens]\n",
    "\n",
    "    return ' '.join(tokens)"
   ]
  },
  {
   "cell_type": "code",
   "execution_count": 18,
   "metadata": {},
   "outputs": [
    {
     "name": "stdout",
     "output_type": "stream",
     "text": [
      "CPU times: user 9.66 s, sys: 1.18 s, total: 10.8 s\n",
      "Wall time: 10.9 s\n"
     ]
    }
   ],
   "source": [
    "%%time\n",
    "df_train['preproc_anchor'] = df_train['anchor'].apply(lambda x: preprocess(x))\n",
    "df_train['preproc_target'] = df_train['target'].apply(lambda x: preprocess(x))\n",
    "\n",
    "df_val['preproc_anchor'] = df_val['anchor'].apply(lambda x: preprocess(x))\n",
    "df_val['preproc_target'] = df_val['target'].apply(lambda x: preprocess(x))"
   ]
  },
  {
   "cell_type": "markdown",
   "metadata": {},
   "source": [
    "### Levenshtein Distance\n",
    "---"
   ]
  },
  {
   "cell_type": "code",
   "execution_count": 19,
   "metadata": {},
   "outputs": [],
   "source": [
    "def calc_dist(df):\n",
    "    return edit_dist(df.iloc[0], df.iloc[1])"
   ]
  },
  {
   "cell_type": "code",
   "execution_count": 71,
   "metadata": {},
   "outputs": [],
   "source": [
    "df_train['edit_dist'] = df_train[['preproc_anchor', 'preproc_target']].apply(calc_dist, axis=1)\n",
    "df_val['edit_dist'] = df_val[['preproc_anchor', 'preproc_target']].apply(calc_dist, axis=1)"
   ]
  },
  {
   "cell_type": "code",
   "execution_count": 72,
   "metadata": {},
   "outputs": [],
   "source": [
    "X_train = df_train['edit_dist'].to_numpy().reshape(-1, 1)\n",
    "X_val = df_val['edit_dist'].to_numpy().reshape(-1, 1)\n",
    "\n",
    "y_train = df_train['score'].to_numpy().reshape(-1, 1)\n",
    "y_val = df_val['score'].to_numpy().reshape(-1, 1)"
   ]
  },
  {
   "cell_type": "code",
   "execution_count": 73,
   "metadata": {},
   "outputs": [],
   "source": [
    "le = LabelEncoder()\n",
    "y_train_enc = le.fit_transform(df_train['score'])\n",
    "y_val_enc = le.transform(df_val['score'])"
   ]
  },
  {
   "cell_type": "code",
   "execution_count": 74,
   "metadata": {},
   "outputs": [],
   "source": [
    "y_train_bin = label_binarize(y_train_enc, classes=np.arange(0, 5))\n",
    "y_val_bin = label_binarize(y_val_enc, classes=np.arange(0, 5))"
   ]
  },
  {
   "cell_type": "markdown",
   "metadata": {},
   "source": [
    "#### Linear Regression"
   ]
  },
  {
   "cell_type": "code",
   "execution_count": 23,
   "metadata": {},
   "outputs": [
    {
     "name": "stdout",
     "output_type": "stream",
     "text": [
      "R^2 Score: 0.0852\n",
      "RMSE: 0.2502\n"
     ]
    }
   ],
   "source": [
    "lr = LinearRegression()\n",
    "lr.fit(X_train, y_train)\n",
    "\n",
    "y_pred = lr.predict(X_val)\n",
    "\n",
    "print(\"R^2 Score: %.4f\" % r2_score(y_val, y_pred))\n",
    "print(\"RMSE: %.4f\" % mean_squared_error(y_val, y_pred, squared=False))"
   ]
  },
  {
   "cell_type": "code",
   "execution_count": 24,
   "metadata": {},
   "outputs": [
    {
     "name": "stdout",
     "output_type": "stream",
     "text": [
      "R^2 Score: 0.0852\n",
      "RMSE: 0.2502\n"
     ]
    }
   ],
   "source": [
    "rr = RidgeCV(cv=5, alphas=[0.001, 0.01, 0.1, 1.0, 10.0])\n",
    "rr.fit(X_train, y_train.ravel())\n",
    "\n",
    "y_pred = rr.predict(X_val)\n",
    "\n",
    "print(\"R^2 Score: %.4f\" % r2_score(y_val, y_pred))\n",
    "print(\"RMSE: %.4f\" % mean_squared_error(y_val, y_pred, squared=False))"
   ]
  },
  {
   "cell_type": "code",
   "execution_count": 25,
   "metadata": {},
   "outputs": [
    {
     "name": "stdout",
     "output_type": "stream",
     "text": [
      "R^2 Score: 0.0852\n",
      "RMSE: 0.2502\n"
     ]
    }
   ],
   "source": [
    "en = ElasticNetCV(cv=5, random_state=1, alphas=[0.001, 0.01, 0.1, 1.0, 10.0], l1_ratio=[0.1, 0.3, 0.5, 0.7, 0.9])\n",
    "en.fit(X_train, y_train.ravel())\n",
    "\n",
    "y_pred = en.predict(X_val)\n",
    "\n",
    "print(\"R^2 Score: %.4f\" % r2_score(y_val, y_pred))\n",
    "print(\"RMSE: %.4f\" % mean_squared_error(y_val, y_pred, squared=False))"
   ]
  },
  {
   "cell_type": "markdown",
   "metadata": {},
   "source": [
    "#### Logistic Regression"
   ]
  },
  {
   "cell_type": "code",
   "execution_count": 70,
   "metadata": {},
   "outputs": [],
   "source": [
    "def plot_roc_auc(y_true, y_pred, labels, model_name, file_path, figsize=(15, 10)):\n",
    "    \n",
    "    areas = {}\n",
    "\n",
    "    fig, ax = plt.subplots(1, 1, figsize=figsize)\n",
    "    for i, lbl in enumerate(labels):\n",
    "        fpr, tpr, thresholds = roc_curve(y_true[:, i], y_pred[:, i])\n",
    "        areas[lbl] = auc(fpr, tpr)\n",
    "        ax.plot(fpr, tpr, label = 'Score = %.2f (AUC: %0.5f)'  % (lbl, areas[lbl]))\n",
    "\n",
    "    ax.legend()\n",
    "    ax.set_title('ROC Curves - ' + model_name);\n",
    "    ax.set_xlabel('False Positive Rate (FPR)');\n",
    "    ax.set_ylabel('True Positive Rate (TPR)');\n",
    "    fig.savefig(file_path)\n",
    "    plt.close(fig)\n",
    "\n",
    "    return areas\n",
    "\n",
    "def plot_precision_recall_auc(y_true, y_pred, labels, model_name, file_path, figsize=(15, 10)):\n",
    "\n",
    "    areas = {}\n",
    "\n",
    "    fig, ax = plt.subplots(1, 1, figsize=figsize)\n",
    "    for i, lbl in enumerate(labels):\n",
    "        pr, rc, thresholds = precision_recall_curve(y_true[:, i], y_pred[:, i])\n",
    "        areas[lbl] = auc(rc, pr)\n",
    "        ax.plot(rc, pr, label = 'Score = %s (AUC: %0.5f)'  % (lbl, areas[lbl]))\n",
    "\n",
    "    ax.legend()\n",
    "    ax.set_title('Precision-Recall Curve - ' + model_name);\n",
    "    ax.set_xlabel('Recall');\n",
    "    ax.set_ylabel('Precision');\n",
    "    fig.savefig(file_path)\n",
    "    plt.close(fig)\n",
    "\n",
    "    return areas\n",
    "\n",
    "\n",
    "def plot_auc(dict, title):\n",
    "    plt.figure(figsize=(8, 5))\n",
    "    fig = plt.bar([str(x) for x in dict.keys()], dict.values())\n",
    "    plt.xlabel('Label')\n",
    "    plt.ylabel('AUC')\n",
    "    plt.title(title)\n",
    "    plt.bar_label(fig, fmt='%.4f')\n"
   ]
  },
  {
   "cell_type": "code",
   "execution_count": 75,
   "metadata": {},
   "outputs": [
    {
     "data": {
      "image/png": "[encoded data removed]",
      "text/plain": [
       "<Figure size 576x360 with 1 Axes>"
      ]
     },
     "metadata": {
      "needs_background": "light"
     },
     "output_type": "display_data"
    },
    {
     "data": {
      "image/png": "[encoded data removed]",
      "text/plain": [
       "<Figure size 576x360 with 1 Axes>"
      ]
     },
     "metadata": {
      "needs_background": "light"
     },
     "output_type": "display_data"
    }
   ],
   "source": [
    "clf = OneVsRestClassifier(LogisticRegressionCV(cv=5, random_state=1, Cs=[0.001, 0.1, 1, 10, 100, 1000], max_iter=300))\n",
    "clf.fit(X_train, y_train_bin)\n",
    "\n",
    "y_pred = clf.predict_proba(X_val)\n",
    "\n",
    "auroc = plot_roc_auc(y_val_bin, y_pred, np.linspace(0, 1, 5), 'edit_dist', r'./results/roc-edit-dist.jpg')\n",
    "aupr = plot_precision_recall_auc(y_val_bin, y_pred, np.linspace(0, 1, 5), 'edit_dist', r'./results/pr-edit-dist.jpg')\n",
    "\n",
    "plot_auc(auroc, 'AUROC')\n",
    "plot_auc(aupr, 'AUPR')"
   ]
  },
  {
   "cell_type": "markdown",
   "metadata": {},
   "source": [
    "### Pre-trained spaCy Model\n",
    "---"
   ]
  },
  {
   "cell_type": "markdown",
   "metadata": {},
   "source": [
    "Word embeddings (or word vectors) are learned, mathematical representations of words. With word embeddings, similar words have similar representations, thus, the idea explored in the following section is to use word embeddings to measure semantic similarity between the anchor and target phrase.\n",
    "\n",
    "This is done through a few different methods:\n",
    "* Multiplication - element-by-element, treat as feature vector\n",
    "\n",
    "* Cosine Similarity & Euclidean Distance - use as measure of similarity (directly scale values to [0, 1] to use as y_pred)\n",
    "\n",
    "The idea is illustrated in the diagram below.\n",
    "\n",
    "<div>\n",
    "<img src=\"./data/diagram.jpg\" width=\"800\"/>\n",
    "</div>"
   ]
  },
  {
   "cell_type": "code",
   "execution_count": 46,
   "metadata": {},
   "outputs": [],
   "source": [
    "nlp = spacy.load('en_core_web_lg')"
   ]
  },
  {
   "cell_type": "code",
   "execution_count": 76,
   "metadata": {},
   "outputs": [
    {
     "name": "stdout",
     "output_type": "stream",
     "text": [
      "CPU times: user 5min 22s, sys: 36.3 s, total: 5min 59s\n",
      "Wall time: 5min 59s\n"
     ]
    }
   ],
   "source": [
    "%%time\n",
    "X_train_mult = np.empty((0, 300), np.float32)\n",
    "cos_sim = np.empty((0, 0), np.float32)\n",
    "euc_dist = np.empty((0, 0), np.float32)\n",
    "\n",
    "for ind, row in df_train.iterrows():\n",
    "    anchor_phrase = row['preproc_anchor']\n",
    "    target_phrase = row['preproc_target']\n",
    "\n",
    "    anchor_vecs = np.array([nlp(word).vector for word in anchor_phrase.split(' ')])\n",
    "    avg_anchor_vecs = np.average(anchor_vecs, axis=0).reshape(1, -1)\n",
    "\n",
    "    target_vecs = np.array([nlp(word).vector for word in target_phrase.split(' ')])\n",
    "    avg_target_vecs = np.average(target_vecs, axis=0).reshape(1, -1)\n",
    "\n",
    "    feature_vec = np.multiply(avg_anchor_vecs, avg_target_vecs)\n",
    "\n",
    "    X_train_mult = np.append(X_train_mult, feature_vec.reshape(1, 300), axis=0)\n",
    "    cos_sim = np.append(cos_sim, cosine_similarity(avg_anchor_vecs, avg_target_vecs).flatten())\n",
    "    euc_dist = np.append(euc_dist, np.sqrt(np.sum(np.square(avg_anchor_vecs - avg_target_vecs))))"
   ]
  },
  {
   "cell_type": "code",
   "execution_count": 77,
   "metadata": {},
   "outputs": [
    {
     "name": "stdout",
     "output_type": "stream",
     "text": [
      "CPU times: user 1min 13s, sys: 1.78 s, total: 1min 15s\n",
      "Wall time: 1min 15s\n"
     ]
    }
   ],
   "source": [
    "%%time\n",
    "X_val_mult = np.empty((0, 300), np.float32)\n",
    "cos_sim_val = np.empty((0, 0), np.float32)\n",
    "euc_dist_val = np.empty((0, 0), np.float32)\n",
    "\n",
    "for ind, row in df_val.iterrows():\n",
    "    anchor_phrase = row['preproc_anchor']\n",
    "    target_phrase = row['preproc_target']\n",
    "\n",
    "    anchor_vecs = np.array([nlp(word).vector for word in anchor_phrase.split(' ')])\n",
    "    avg_anchor_vecs = np.average(anchor_vecs, axis=0).reshape(1, -1)\n",
    "\n",
    "    target_vecs = np.array([nlp(word).vector for word in target_phrase.split(' ')])\n",
    "    avg_target_vecs = np.average(target_vecs, axis=0).reshape(1, -1)\n",
    "\n",
    "    feature_vec = np.multiply(avg_anchor_vecs, avg_target_vecs)\n",
    "\n",
    "    X_val_mult = np.append(X_val_mult, feature_vec.reshape(1, 300), axis=0)\n",
    "    cos_sim_val = np.append(cos_sim_val, cosine_similarity(avg_anchor_vecs, avg_target_vecs).flatten())\n",
    "    euc_dist_val = np.append(euc_dist_val, np.sqrt(np.sum(np.square(avg_anchor_vecs - avg_target_vecs))))"
   ]
  },
  {
   "cell_type": "markdown",
   "metadata": {},
   "source": [
    "#### Linear Regression"
   ]
  },
  {
   "cell_type": "code",
   "execution_count": 78,
   "metadata": {},
   "outputs": [],
   "source": [
    "def fit_linear_models(X_train, y_train, X_val, y_val):\n",
    "    # Linear Regression\n",
    "    lr = LinearRegression()\n",
    "    lr.fit(X_train, y_train)\n",
    "\n",
    "    y_pred = lr.predict(X_val)\n",
    "\n",
    "    print('LINEAR REGRESSION:')\n",
    "    print(\"R^2 Score: %.4f\" % r2_score(y_val, y_pred))\n",
    "    print(\"RMSE: %.4f\" % mean_squared_error(y_val, y_pred, squared=False))\n",
    "    print()\n",
    "\n",
    "    # Ridge Regression\n",
    "    rr = RidgeCV(cv=5, alphas=[0.001, 0.01, 0.1, 1.0, 10.0])\n",
    "    rr.fit(X_train, y_train.ravel())\n",
    "\n",
    "    y_pred = rr.predict(X_val)\n",
    "\n",
    "    print('RIDGE REGRESSION:')\n",
    "    print(\"R^2 Score: %.4f\" % r2_score(y_val, y_pred))\n",
    "    print(\"RMSE: %.4f\" % mean_squared_error(y_val, y_pred, squared=False))\n",
    "    print()\n",
    "\n",
    "    # ElasticNet\n",
    "    en = ElasticNetCV(cv=5, random_state=1, alphas=[0.001, 0.01, 0.1, 1.0, 10.0], l1_ratio=[0.1, 0.3, 0.5, 0.7, 0.9])\n",
    "    en.fit(X_train, y_train.ravel())\n",
    "\n",
    "    y_pred = en.predict(X_val)\n",
    "\n",
    "    print('ELASTIC NET REGRESSION:')\n",
    "    print(\"R^2 Score: %.4f\" % r2_score(y_val, y_pred))\n",
    "    print(\"RMSE: %.4f\" % mean_squared_error(y_val, y_pred, squared=False))\n",
    "    print()"
   ]
  },
  {
   "cell_type": "code",
   "execution_count": 79,
   "metadata": {},
   "outputs": [
    {
     "name": "stdout",
     "output_type": "stream",
     "text": [
      "LINEAR REGRESSION:\n",
      "R^2 Score: 0.0852\n",
      "RMSE: 0.2502\n",
      "\n",
      "RIDGE REGRESSION:\n",
      "R^2 Score: 0.0852\n",
      "RMSE: 0.2502\n",
      "\n",
      "ELASTIC NET REGRESSION:\n",
      "R^2 Score: 0.0852\n",
      "RMSE: 0.2502\n",
      "\n"
     ]
    }
   ],
   "source": [
    "fit_linear_models(X_train, y_train, X_val, y_val)"
   ]
  },
  {
   "cell_type": "code",
   "execution_count": 80,
   "metadata": {},
   "outputs": [
    {
     "name": "stdout",
     "output_type": "stream",
     "text": [
      "LINEAR REGRESSION:\n",
      "R^2 Score: 0.1795\n",
      "RMSE: 0.2370\n",
      "\n",
      "RIDGE REGRESSION:\n",
      "R^2 Score: 0.1795\n",
      "RMSE: 0.2370\n",
      "\n",
      "ELASTIC NET REGRESSION:\n",
      "R^2 Score: 0.1792\n",
      "RMSE: 0.2370\n",
      "\n"
     ]
    }
   ],
   "source": [
    "fit_linear_models(cos_sim.reshape(-1, 1), y_train, cos_sim_val.reshape(-1, 1), y_val)"
   ]
  },
  {
   "cell_type": "code",
   "execution_count": 81,
   "metadata": {},
   "outputs": [
    {
     "name": "stdout",
     "output_type": "stream",
     "text": [
      "LINEAR REGRESSION:\n",
      "R^2 Score: 0.2286\n",
      "RMSE: 0.2298\n",
      "\n",
      "RIDGE REGRESSION:\n",
      "R^2 Score: 0.2286\n",
      "RMSE: 0.2298\n",
      "\n",
      "ELASTIC NET REGRESSION:\n",
      "R^2 Score: 0.2285\n",
      "RMSE: 0.2298\n",
      "\n"
     ]
    }
   ],
   "source": [
    "fit_linear_models(euc_dist.reshape(-1, 1), y_train, euc_dist_val.reshape(-1, 1), y_val)"
   ]
  },
  {
   "cell_type": "markdown",
   "metadata": {},
   "source": [
    "#### Logistic Regression"
   ]
  },
  {
   "cell_type": "code",
   "execution_count": 82,
   "metadata": {},
   "outputs": [],
   "source": [
    "sc = StandardScaler()\n",
    "X_train_scaled = sc.fit_transform(X_train_mult)\n",
    "X_val_scaled = sc.transform(X_val_mult)"
   ]
  },
  {
   "cell_type": "code",
   "execution_count": 83,
   "metadata": {},
   "outputs": [],
   "source": [
    "def fit_log_model(X_train, y_train, X_val, y_val, model_name, output_dir):\n",
    "\n",
    "    clf = OneVsRestClassifier(LogisticRegressionCV(cv=5, random_state=1, Cs=[0.001, 0.1, 1, 10, 100, 1000], max_iter=300))\n",
    "    clf.fit(X_train, y_train)\n",
    "\n",
    "    y_pred = clf.predict_proba(X_val)\n",
    "\n",
    "    auroc = plot_roc_auc(y_val, y_pred, np.linspace(0, 1, 5), model_name, output_dir + '/roc-' + model_name + '.jpg')\n",
    "    aupr = plot_precision_recall_auc(y_val, y_pred, np.linspace(0, 1, 5), model_name, output_dir + '/pr-' + model_name + '.jpg')\n",
    "\n",
    "    plot_auc(auroc, 'AUROC')\n",
    "    plot_auc(aupr, 'AUPR')"
   ]
  },
  {
   "cell_type": "code",
   "execution_count": 84,
   "metadata": {},
   "outputs": [
    {
     "data": {
      "image/png": "[encoded data removed]",
      "text/plain": [
       "<Figure size 576x360 with 1 Axes>"
      ]
     },
     "metadata": {
      "needs_background": "light"
     },
     "output_type": "display_data"
    },
    {
     "data": {
      "image/png": "[encoded data removed]",
      "text/plain": [
       "<Figure size 576x360 with 1 Axes>"
      ]
     },
     "metadata": {
      "needs_background": "light"
     },
     "output_type": "display_data"
    }
   ],
   "source": [
    "# X_train_scaled used for numerical stability, X_train has trouble converging\n",
    "fit_log_model(X_train_scaled, y_train_bin, X_val_scaled, y_val_bin, 'mult', r'./results')"
   ]
  },
  {
   "cell_type": "code",
   "execution_count": 86,
   "metadata": {},
   "outputs": [
    {
     "data": {
      "image/png": "[encoded data removed]",
      "text/plain": [
       "<Figure size 576x360 with 1 Axes>"
      ]
     },
     "metadata": {
      "needs_background": "light"
     },
     "output_type": "display_data"
    },
    {
     "data": {
      "image/png": "[encoded data removed]",
      "text/plain": [
       "<Figure size 576x360 with 1 Axes>"
      ]
     },
     "metadata": {
      "needs_background": "light"
     },
     "output_type": "display_data"
    }
   ],
   "source": [
    "fit_log_model(cos_sim.reshape(-1, 1), y_train_bin, cos_sim_val.reshape(-1, 1), y_val_bin, 'cos-sim', r'./results')"
   ]
  },
  {
   "cell_type": "code",
   "execution_count": 87,
   "metadata": {},
   "outputs": [
    {
     "data": {
      "image/png": "[encoded data removed]",
      "text/plain": [
       "<Figure size 576x360 with 1 Axes>"
      ]
     },
     "metadata": {
      "needs_background": "light"
     },
     "output_type": "display_data"
    },
    {
     "data": {
      "image/png": "[encoded data removed]",
      "text/plain": [
       "<Figure size 576x360 with 1 Axes>"
      ]
     },
     "metadata": {
      "needs_background": "light"
     },
     "output_type": "display_data"
    }
   ],
   "source": [
    "fit_log_model(euc_dist.reshape(-1, 1), y_train_bin, euc_dist_val.reshape(-1, 1), y_val_bin, 'euc-dist', r'./results')"
   ]
  },
  {
   "cell_type": "markdown",
   "metadata": {},
   "source": [
    "### Custom Trained Word Vectors (gensim)\n",
    "---"
   ]
  },
  {
   "cell_type": "code",
   "execution_count": null,
   "metadata": {},
   "outputs": [],
   "source": []
  },
  {
   "cell_type": "markdown",
   "metadata": {},
   "source": [
    "#### Linear Regression"
   ]
  },
  {
   "cell_type": "code",
   "execution_count": null,
   "metadata": {},
   "outputs": [],
   "source": []
  },
  {
   "cell_type": "markdown",
   "metadata": {},
   "source": [
    "#### Logistic Regression"
   ]
  },
  {
   "cell_type": "code",
   "execution_count": null,
   "metadata": {},
   "outputs": [],
   "source": []
  },
  {
   "cell_type": "markdown",
   "metadata": {},
   "source": [
    "### Conclusions\n",
    "---"
   ]
  },
  {
   "cell_type": "markdown",
   "metadata": {},
   "source": [
    "* Posing the "
   ]
  }
 ],
 "metadata": {
  "kernelspec": {
   "display_name": "Python 3.9.13 ('nlp')",
   "language": "python",
   "name": "python3"
  },
  "language_info": {
   "codemirror_mode": {
    "name": "ipython",
    "version": 3
   },
   "file_extension": ".py",
   "mimetype": "text/x-python",
   "name": "python",
   "nbconvert_exporter": "python",
   "pygments_lexer": "ipython3",
   "version": "3.9.13"
  },
  "orig_nbformat": 4,
  "vscode": {
   "interpreter": {
    "hash": "48d39e6237c53a792bc3d9d6b208352e55e343682fa024294b0ea54c5b55a601"
   }
  }
 },
 "nbformat": 4,
 "nbformat_minor": 2
}
