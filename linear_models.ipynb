{
 "cells": [
  {
   "cell_type": "markdown",
   "metadata": {},
   "source": [
    "# Linear Models for Semantic Similarity Predictions\n",
    "\n",
    "Dataset: [Semantic Similarity Predictions for Phrases in U.S. Patents](https://www.kaggle.com/competitions/us-patent-phrase-to-phrase-matching)\n",
    "\n",
    "This notebook contains first-cut analysis & linear similarity prediction models"
   ]
  },
  {
   "cell_type": "markdown",
   "metadata": {},
   "source": [
    "### Approach\n",
    "---\n",
    "\n",
    "The goal of the dataset is to predict the semantic similarity score ($s \\in [0.00, 0.25, 0.50, 0.75, 1.00]$) between an anchor phrase and a target phrase, with 0 being completely unrelated and 1 being closely related.\n",
    "\n",
    "After performing exploratory data analysis, a few important observations can be made:\n",
    "\n",
    "* Phrases themselves are relatively short (~2 words) with the majority of phrase pairs not sharing any words, thus, simple methods such as the distance between pairs of bag-of-words or TF-IDF vectors will not perform well.\n",
    "\n",
    "* Similarity scores are on a scale of 0 to 1, but also grouped into 5 discrete buckets, thus, the problem can be cast as both a regression or multiclass classification problem.\n",
    "\n",
    "This notebook will attempt to predict the similarity score using the following algorithms:\n",
    "\n",
    "* Linear Regression, Logistic Regression\n",
    "\n",
    "with the following feature engineering approaches:\n",
    "\n",
    "* Levenshtein distance (e.g. edit distance) b/t anchor & target phrase as the feature\n",
    "\n",
    "* Various permutations of pre-trained spaCy word vectors as the features (avg, multiply, cosine similarity, etc.)\n",
    "\n",
    "* Various permutations of custom-trained word vectors as the features (Refer to: train-patents-embeddings.ipynb)"
   ]
  },
  {
   "cell_type": "markdown",
   "metadata": {},
   "source": [
    "### Preprocessing\n",
    "---"
   ]
  },
  {
   "cell_type": "code",
   "execution_count": 1,
   "metadata": {},
   "outputs": [],
   "source": [
    "import pandas as pd\n",
    "import numpy as np\n",
    "import matplotlib.pyplot as plt\n",
    "import spacy\n",
    "\n",
    "from nltk.stem import WordNetLemmatizer, PorterStemmer\n",
    "from nltk.corpus import stopwords\n",
    "from nltk.tokenize import word_tokenize\n",
    "\n",
    "from Levenshtein import distance as edit_dist\n",
    "\n",
    "from gensim.models import Word2Vec, FastText\n",
    "\n",
    "from sklearn.metrics import auc, roc_curve, precision_recall_curve\n",
    "from sklearn.multiclass import OneVsRestClassifier\n",
    "from sklearn.preprocessing import StandardScaler, LabelEncoder, label_binarize\n",
    "from sklearn.model_selection import train_test_split\n",
    "from sklearn.linear_model import LinearRegression, RidgeCV, ElasticNetCV, LogisticRegressionCV\n",
    "from sklearn.metrics import r2_score, mean_squared_error\n",
    "from sklearn.metrics.pairwise import cosine_similarity"
   ]
  },
  {
   "cell_type": "code",
   "execution_count": 2,
   "metadata": {},
   "outputs": [],
   "source": [
    "df_train_val = pd.read_csv('./data/train.csv')\n",
    "df_test = pd.read_csv('./data/test.csv')\n",
    "df_titles = pd.read_csv('./data/titles.csv')\n",
    "\n",
    "df_train, df_val = train_test_split(df_train_val, test_size=0.2, random_state=1)"
   ]
  },
  {
   "cell_type": "code",
   "execution_count": 3,
   "metadata": {},
   "outputs": [],
   "source": [
    "lm = WordNetLemmatizer()\n",
    "ps = PorterStemmer()\n",
    "\n",
    "def lemmatize(text):\n",
    "    return lm.lemmatize(text)\n",
    "\n",
    "def stem(text):\n",
    "    return ps.stem(text)\n",
    "\n",
    "def remove_stopwords(tokens):\n",
    "    tokens = [token.lower().strip() for token in tokens]\n",
    "    filtered_tokens = [token for token in tokens if token not in stopwords.words('english')]\n",
    "    return filtered_tokens\n",
    "\n",
    "def preprocess(sent, method='lem'):\n",
    "    tokens = word_tokenize(sent)\n",
    "    filtered_tokens = remove_stopwords(tokens)\n",
    "    \n",
    "    if method == 'lem':\n",
    "        tokens = [lemmatize(token) for token in filtered_tokens]\n",
    "    else:\n",
    "        tokens = [stem(token) for token in filtered_tokens]\n",
    "\n",
    "    return ' '.join(tokens)"
   ]
  },
  {
   "cell_type": "code",
   "execution_count": 4,
   "metadata": {},
   "outputs": [
    {
     "name": "stdout",
     "output_type": "stream",
     "text": [
      "CPU times: user 9.45 s, sys: 1.13 s, total: 10.6 s\n",
      "Wall time: 10.6 s\n"
     ]
    }
   ],
   "source": [
    "%%time\n",
    "df_train['preproc_anchor'] = df_train['anchor'].apply(lambda x: preprocess(x))\n",
    "df_train['preproc_target'] = df_train['target'].apply(lambda x: preprocess(x))\n",
    "\n",
    "df_val['preproc_anchor'] = df_val['anchor'].apply(lambda x: preprocess(x))\n",
    "df_val['preproc_target'] = df_val['target'].apply(lambda x: preprocess(x))"
   ]
  },
  {
   "cell_type": "markdown",
   "metadata": {},
   "source": [
    "### Helper Functions\n",
    "---"
   ]
  },
  {
   "cell_type": "code",
   "execution_count": 5,
   "metadata": {},
   "outputs": [],
   "source": [
    "rmse_cols = ['feature_eng_method', 'regression_model', 'r2_score', 'rmse']\n",
    "df_rmse = pd.DataFrame(columns=rmse_cols)"
   ]
  },
  {
   "cell_type": "code",
   "execution_count": 6,
   "metadata": {},
   "outputs": [],
   "source": [
    "auroc = ['auroc_%.2f' % x for x in np.linspace(0, 1, 5)]\n",
    "aupr = ['aupr_%.2f' % x for x in np.linspace(0, 1, 5)]\n",
    "avg = ['avg_auroc', 'avg_aupr']\n",
    "auc_cols = [x for sublist in [['feature_eng_method'], auroc, aupr, avg] for x in sublist]\n",
    "\n",
    "df_auc = pd.DataFrame(columns=auc_cols)"
   ]
  },
  {
   "cell_type": "code",
   "execution_count": 7,
   "metadata": {},
   "outputs": [],
   "source": [
    "def return_scores(y_val, y_pred, print_output=True):\n",
    "    r2s = r2_score(y_val, y_pred)\n",
    "    rmse = mean_squared_error(y_val, y_pred, squared=False)\n",
    "\n",
    "    if print_output:\n",
    "        print(\"R^2 Score: %.4f\" % r2s)\n",
    "        print(\"RMSE: %.4f\" % rmse)\n",
    "        print()\n",
    "    return r2s, rmse\n",
    "\n",
    "\n",
    "def fit_linear_models(X_train, y_train, X_val, y_val, feature_eng_method, print_output=True):\n",
    "    scores = []\n",
    "\n",
    "    # Linear Regression\n",
    "    print('LINEAR REGRESSION:')\n",
    "    lr = LinearRegression()\n",
    "    lr.fit(X_train, y_train)\n",
    "\n",
    "    y_pred = lr.predict(X_val)\n",
    "    r2s, rmse = return_scores(y_val, y_pred, print_output=print_output)\n",
    "    scores.append([feature_eng_method, 'linear', r2s, rmse])\n",
    "\n",
    "    # Ridge Regression\n",
    "    print('RIDGE REGRESSION:')\n",
    "    rr = RidgeCV(cv=5, alphas=[0.001, 0.01, 0.1, 1.0, 10.0])\n",
    "    rr.fit(X_train, y_train.ravel())\n",
    "\n",
    "    y_pred = rr.predict(X_val)\n",
    "    r2s, rmse = return_scores(y_val, y_pred, print_output=print_output)\n",
    "    scores.append([feature_eng_method, 'ridge', r2s, rmse])\n",
    "\n",
    "    # ElasticNet\n",
    "    print('ELASTICNET REGRESSION:')\n",
    "    en = ElasticNetCV(cv=5, random_state=1, alphas=[0.001, 0.01, 0.1, 1.0, 10.0], l1_ratio=[0.1, 0.3, 0.5, 0.7, 0.9])\n",
    "    en.fit(X_train, y_train.ravel())\n",
    "\n",
    "    y_pred = en.predict(X_val)\n",
    "    r2s, rmse = return_scores(y_val, y_pred, print_output=print_output)\n",
    "    scores.append([feature_eng_method, 'elastic_net', r2s, rmse])\n",
    "\n",
    "    return scores"
   ]
  },
  {
   "cell_type": "code",
   "execution_count": 8,
   "metadata": {},
   "outputs": [],
   "source": [
    "def plot_roc_auc(y_true, y_pred, labels, model_name, file_path, figsize=(15, 10)):\n",
    "    \n",
    "    areas = []\n",
    "\n",
    "    fig, ax = plt.subplots(1, 1, figsize=figsize)\n",
    "    for i, lbl in enumerate(labels):\n",
    "        fpr, tpr, thresholds = roc_curve(y_true[:, i], y_pred[:, i])\n",
    "        areas.append(auc(fpr, tpr))\n",
    "        ax.plot(fpr, tpr, label = 'Score = %.2f (AUC: %0.5f)'  % (lbl, areas[i]))\n",
    "\n",
    "    ax.legend()\n",
    "    ax.set_title('ROC Curves - ' + model_name);\n",
    "    ax.set_xlabel('False Positive Rate (FPR)');\n",
    "    ax.set_ylabel('True Positive Rate (TPR)');\n",
    "    fig.savefig(file_path)\n",
    "    plt.close(fig)\n",
    "\n",
    "    return areas\n",
    "\n",
    "\n",
    "def plot_precision_recall_auc(y_true, y_pred, labels, model_name, file_path, figsize=(15, 10)):\n",
    "\n",
    "    areas = []\n",
    "\n",
    "    fig, ax = plt.subplots(1, 1, figsize=figsize)\n",
    "    for i, lbl in enumerate(labels):\n",
    "        pr, rc, thresholds = precision_recall_curve(y_true[:, i], y_pred[:, i])\n",
    "        areas.append(auc(rc, pr))\n",
    "        ax.plot(rc, pr, label = 'Score = %s (AUC: %0.5f)'  % (lbl, areas[i]))\n",
    "\n",
    "    ax.legend()\n",
    "    ax.set_title('Precision-Recall Curve - ' + model_name);\n",
    "    ax.set_xlabel('Recall');\n",
    "    ax.set_ylabel('Precision');\n",
    "    fig.savefig(file_path)\n",
    "    plt.close(fig)\n",
    "\n",
    "    return areas\n",
    "\n",
    "\n",
    "def plot_auc(labels, values, title):\n",
    "    plt.figure(figsize=(8, 5))\n",
    "    fig = plt.bar([str('%.2f' % x) for x in labels], values)\n",
    "    plt.xlabel('Label')\n",
    "    plt.ylabel('AUC')\n",
    "    plt.title(title)\n",
    "    plt.bar_label(fig, fmt='%.4f')"
   ]
  },
  {
   "cell_type": "code",
   "execution_count": 9,
   "metadata": {},
   "outputs": [],
   "source": [
    "def fit_log_model(X_train, y_train, X_val, y_val, labels, model_name, output_dir):\n",
    "    \n",
    "    clf = OneVsRestClassifier(LogisticRegressionCV(cv=5, random_state=1, Cs=[0.001, 0.1, 1, 10, 100, 1000], max_iter=300))\n",
    "    clf.fit(X_train, y_train)\n",
    "\n",
    "    y_pred = clf.predict_proba(X_val)\n",
    "\n",
    "    auroc = plot_roc_auc(y_val, y_pred, labels, model_name, output_dir + '/roc-' + model_name + '.jpg')\n",
    "    aupr = plot_precision_recall_auc(y_val, y_pred, labels, model_name, output_dir + '/pr-' + model_name + '.jpg')\n",
    "\n",
    "    plot_auc(labels, auroc, 'AUROC')\n",
    "    plot_auc(labels, aupr, 'AUPR')\n",
    "\n",
    "    scores = [[model_name], auroc, aupr, [np.mean(auroc), np.mean(aupr)]]\n",
    "    return [x for sublist in scores for x in sublist]"
   ]
  },
  {
   "cell_type": "markdown",
   "metadata": {},
   "source": [
    "#### y_train"
   ]
  },
  {
   "cell_type": "code",
   "execution_count": 10,
   "metadata": {},
   "outputs": [],
   "source": [
    "y_train = df_train['score'].to_numpy().reshape(-1, 1)\n",
    "y_val = df_val['score'].to_numpy().reshape(-1, 1)"
   ]
  },
  {
   "cell_type": "code",
   "execution_count": 11,
   "metadata": {},
   "outputs": [],
   "source": [
    "# Encode first before binarize, binarize doesnt supporting floating point classes (e.g., 0.00, 0.25, etc)\n",
    "le = LabelEncoder()\n",
    "y_train_enc = le.fit_transform(df_train['score'])\n",
    "y_val_enc = le.transform(df_val['score'])"
   ]
  },
  {
   "cell_type": "code",
   "execution_count": 12,
   "metadata": {},
   "outputs": [],
   "source": [
    "y_train_bin = label_binarize(y_train_enc, classes=np.arange(0, 5))\n",
    "y_val_bin = label_binarize(y_val_enc, classes=np.arange(0, 5))"
   ]
  },
  {
   "cell_type": "markdown",
   "metadata": {},
   "source": [
    "### Levenshtein Distance\n",
    "---"
   ]
  },
  {
   "cell_type": "code",
   "execution_count": 13,
   "metadata": {},
   "outputs": [],
   "source": [
    "def calc_dist(df):\n",
    "    return edit_dist(df.iloc[0], df.iloc[1])"
   ]
  },
  {
   "cell_type": "code",
   "execution_count": 14,
   "metadata": {},
   "outputs": [],
   "source": [
    "df_train['edit_dist'] = df_train[['preproc_anchor', 'preproc_target']].apply(calc_dist, axis=1)\n",
    "df_val['edit_dist'] = df_val[['preproc_anchor', 'preproc_target']].apply(calc_dist, axis=1)"
   ]
  },
  {
   "cell_type": "code",
   "execution_count": 15,
   "metadata": {},
   "outputs": [],
   "source": [
    "X_train_edit = df_train['edit_dist'].to_numpy().reshape(-1, 1)\n",
    "X_val_edit = df_val['edit_dist'].to_numpy().reshape(-1, 1)"
   ]
  },
  {
   "cell_type": "code",
   "execution_count": 49,
   "metadata": {},
   "outputs": [
    {
     "data": {
      "image/png": "[encoded data removed]",
      "text/plain": [
       "<Figure size 720x576 with 1 Axes>"
      ]
     },
     "metadata": {
      "needs_background": "light"
     },
     "output_type": "display_data"
    }
   ],
   "source": [
    "fig = plt.figure(figsize=(10, 8))\n",
    "plt.scatter(X_train_edit, y_train)\n",
    "plt.title('Edit Distance vs. Similarity Score');\n",
    "plt.xlabel('Edit Distance');\n",
    "plt.ylabel('Semantic Similarity Score');"
   ]
  },
  {
   "cell_type": "markdown",
   "metadata": {},
   "source": [
    "#### Linear Regression"
   ]
  },
  {
   "cell_type": "code",
   "execution_count": 16,
   "metadata": {},
   "outputs": [
    {
     "name": "stdout",
     "output_type": "stream",
     "text": [
      "LINEAR REGRESSION:\n",
      "R^2 Score: 0.0852\n",
      "RMSE: 0.2502\n",
      "\n",
      "RIDGE REGRESSION:\n",
      "R^2 Score: 0.0852\n",
      "RMSE: 0.2502\n",
      "\n",
      "ELASTICNET REGRESSION:\n",
      "R^2 Score: 0.0852\n",
      "RMSE: 0.2502\n",
      "\n"
     ]
    }
   ],
   "source": [
    "scores = fit_linear_models(X_train_edit, y_train, X_val_edit, y_val, feature_eng_method='edit_distance')\n",
    "df_rmse = pd.concat([df_rmse, pd.DataFrame(scores, columns=rmse_cols)], axis=0).drop_duplicates()"
   ]
  },
  {
   "cell_type": "markdown",
   "metadata": {},
   "source": [
    "#### Logistic Regression"
   ]
  },
  {
   "cell_type": "code",
   "execution_count": 17,
   "metadata": {},
   "outputs": [
    {
     "data": {
      "image/png": "[encoded data removed]",
      "text/plain": [
       "<Figure size 576x360 with 1 Axes>"
      ]
     },
     "metadata": {
      "needs_background": "light"
     },
     "output_type": "display_data"
    },
    {
     "data": {
      "image/png": "[encoded data removed]",
      "text/plain": [
       "<Figure size 576x360 with 1 Axes>"
      ]
     },
     "metadata": {
      "needs_background": "light"
     },
     "output_type": "display_data"
    }
   ],
   "source": [
    "scores = fit_log_model(X_train_edit, y_train_bin, X_val_edit, y_val_bin, labels=np.linspace(0, 1, 5), model_name='edit_distance', output_dir=r'./results/')\n",
    "df_auc = pd.concat([df_auc, pd.DataFrame([scores], columns=auc_cols)], axis=0).drop_duplicates()"
   ]
  },
  {
   "cell_type": "markdown",
   "metadata": {},
   "source": [
    "### Pre-trained spaCy Model\n",
    "---"
   ]
  },
  {
   "cell_type": "markdown",
   "metadata": {},
   "source": [
    "Word embeddings (or word vectors) are learned, mathematical representations of words. With word embeddings, similar words have similar representations, thus, the idea explored in the following section is to use word embeddings to measure semantic similarity between the anchor and target phrase.\n",
    "\n",
    "This is done through a few different methods:\n",
    "* Multiplication - element-by-element, treat as feature vector\n",
    "\n",
    "* Cosine Similarity & Euclidean Distance - use as measure of similarity (directly scale values to [0, 1] to use as y_pred)\n",
    "\n",
    "The idea is illustrated in the diagram below.\n",
    "\n",
    "<div>\n",
    "<img src=\"./data/diagram.jpg\" width=\"800\"/>\n",
    "</div>"
   ]
  },
  {
   "cell_type": "code",
   "execution_count": 18,
   "metadata": {},
   "outputs": [],
   "source": [
    "nlp = spacy.load('en_core_web_lg')\n",
    "\n",
    "def get_feature_vecs(df, model, vec_len=100, model_type='spacy'):\n",
    "    mult = np.empty((0, vec_len), np.float32)\n",
    "    cos_sim = np.empty((0, 0), np.float32)\n",
    "    euc_dist = np.empty((0, 0), np.float32)\n",
    "\n",
    "    for ind, row in df.iterrows():\n",
    "        anchor_phrase = row['preproc_anchor']\n",
    "        target_phrase = row['preproc_target']\n",
    "\n",
    "        if model_type == 'spacy':\n",
    "            anchor_vecs = np.array([nlp(word).vector for word in anchor_phrase.split(' ')])\n",
    "            target_vecs = np.array([nlp(word).vector for word in target_phrase.split(' ')])\n",
    "        elif model_type == 'gensim':\n",
    "            anchor_vecs = np.array([model.wv[word] for word in anchor_phrase.split(' ')])\n",
    "            target_vecs = np.array([model.wv[word] for word in target_phrase.split(' ')])\n",
    "        \n",
    "        avg_anchor_vecs = np.average(anchor_vecs, axis=0).reshape(1, -1)\n",
    "        avg_target_vecs = np.average(target_vecs, axis=0).reshape(1, -1)\n",
    "\n",
    "        feature_vec = np.multiply(avg_anchor_vecs, avg_target_vecs)\n",
    "\n",
    "        mult = np.append(mult, feature_vec.reshape(1, vec_len), axis=0)\n",
    "        cos_sim = np.append(cos_sim, cosine_similarity(avg_anchor_vecs, avg_target_vecs).flatten())\n",
    "        euc_dist = np.append(euc_dist, np.sqrt(np.sum(np.square(avg_anchor_vecs - avg_target_vecs))))\n",
    "\n",
    "    return mult, cos_sim.reshape(-1, 1), euc_dist.reshape(-1, 1)"
   ]
  },
  {
   "cell_type": "code",
   "execution_count": 19,
   "metadata": {},
   "outputs": [
    {
     "name": "stdout",
     "output_type": "stream",
     "text": [
      "CPU times: user 6min 23s, sys: 34.1 s, total: 6min 57s\n",
      "Wall time: 6min 57s\n"
     ]
    }
   ],
   "source": [
    "%%time\n",
    "X_train_mult, X_train_cos, X_train_euc = get_feature_vecs(df_train, nlp, vec_len=300)\n",
    "X_val_mult, X_val_cos, X_val_euc = get_feature_vecs(df_val, nlp, vec_len=300)"
   ]
  },
  {
   "cell_type": "markdown",
   "metadata": {},
   "source": [
    "#### Linear Regression"
   ]
  },
  {
   "cell_type": "code",
   "execution_count": 20,
   "metadata": {},
   "outputs": [
    {
     "name": "stdout",
     "output_type": "stream",
     "text": [
      "LINEAR REGRESSION:\n",
      "R^2 Score: 0.1787\n",
      "RMSE: 0.2371\n",
      "\n",
      "RIDGE REGRESSION:\n",
      "R^2 Score: 0.1797\n",
      "RMSE: 0.2369\n",
      "\n",
      "ELASTICNET REGRESSION:\n",
      "R^2 Score: 0.1781\n",
      "RMSE: 0.2371\n",
      "\n"
     ]
    }
   ],
   "source": [
    "scores = fit_linear_models(X_train_mult, y_train, X_val_mult, y_val, feature_eng_method='spacy_vec_mult')\n",
    "df_rmse = pd.concat([df_rmse, pd.DataFrame(scores, columns=rmse_cols)], axis=0).drop_duplicates()"
   ]
  },
  {
   "cell_type": "code",
   "execution_count": 21,
   "metadata": {},
   "outputs": [
    {
     "name": "stdout",
     "output_type": "stream",
     "text": [
      "LINEAR REGRESSION:\n",
      "R^2 Score: 0.1795\n",
      "RMSE: 0.2370\n",
      "\n",
      "RIDGE REGRESSION:\n",
      "R^2 Score: 0.1795\n",
      "RMSE: 0.2370\n",
      "\n",
      "ELASTICNET REGRESSION:\n",
      "R^2 Score: 0.1792\n",
      "RMSE: 0.2370\n",
      "\n"
     ]
    }
   ],
   "source": [
    "scores = fit_linear_models(X_train_cos, y_train, X_val_cos, y_val, feature_eng_method='spacy_vec_cos')\n",
    "df_rmse = pd.concat([df_rmse, pd.DataFrame(scores, columns=rmse_cols)], axis=0).drop_duplicates()"
   ]
  },
  {
   "cell_type": "code",
   "execution_count": 22,
   "metadata": {},
   "outputs": [
    {
     "name": "stdout",
     "output_type": "stream",
     "text": [
      "LINEAR REGRESSION:\n",
      "R^2 Score: 0.2286\n",
      "RMSE: 0.2298\n",
      "\n",
      "RIDGE REGRESSION:\n",
      "R^2 Score: 0.2286\n",
      "RMSE: 0.2298\n",
      "\n",
      "ELASTICNET REGRESSION:\n",
      "R^2 Score: 0.2285\n",
      "RMSE: 0.2298\n",
      "\n"
     ]
    }
   ],
   "source": [
    "scores = fit_linear_models(X_train_euc, y_train, X_val_euc, y_val, feature_eng_method='spacy_vec_euc')\n",
    "df_rmse = pd.concat([df_rmse, pd.DataFrame(scores, columns=rmse_cols)], axis=0).drop_duplicates()"
   ]
  },
  {
   "cell_type": "code",
   "execution_count": 50,
   "metadata": {},
   "outputs": [
    {
     "data": {
      "image/png": "[encoded data removed]",
      "text/plain": [
       "<Figure size 720x576 with 1 Axes>"
      ]
     },
     "metadata": {
      "needs_background": "light"
     },
     "output_type": "display_data"
    }
   ],
   "source": [
    "fig = plt.figure(figsize=(10, 8))\n",
    "plt.scatter(X_train_cos, y_train)\n",
    "plt.title('spaCy Cosine Similarity vs. Similarity Score');\n",
    "plt.xlabel('spaCy Cosine Similarity');\n",
    "plt.ylabel('Semantic Similarity Score');"
   ]
  },
  {
   "cell_type": "code",
   "execution_count": 52,
   "metadata": {},
   "outputs": [
    {
     "data": {
      "image/png": "[encoded data removed]",
      "text/plain": [
       "<Figure size 720x576 with 1 Axes>"
      ]
     },
     "metadata": {
      "needs_background": "light"
     },
     "output_type": "display_data"
    }
   ],
   "source": [
    "fig = plt.figure(figsize=(10, 8))\n",
    "plt.scatter(X_train_euc, y_train)\n",
    "plt.title('spaCy Euclidean Distance vs. Similarity Score');\n",
    "plt.xlabel('spaCy Euclidean Distance');\n",
    "plt.ylabel('Semantic Similarity Score');"
   ]
  },
  {
   "cell_type": "markdown",
   "metadata": {},
   "source": [
    "#### Logistic Regression"
   ]
  },
  {
   "cell_type": "code",
   "execution_count": 23,
   "metadata": {},
   "outputs": [],
   "source": [
    "# X_train_scaled used for numerical stability, X_train has trouble converging\n",
    "sc = StandardScaler()\n",
    "X_train_mult_scaled = sc.fit_transform(X_train_mult)\n",
    "X_val_mult_scaled = sc.transform(X_val_mult)"
   ]
  },
  {
   "cell_type": "code",
   "execution_count": 24,
   "metadata": {},
   "outputs": [
    {
     "data": {
      "image/png": "[encoded data removed]",
      "text/plain": [
       "<Figure size 576x360 with 1 Axes>"
      ]
     },
     "metadata": {
      "needs_background": "light"
     },
     "output_type": "display_data"
    },
    {
     "data": {
      "image/png": "[encoded data removed]",
      "text/plain": [
       "<Figure size 576x360 with 1 Axes>"
      ]
     },
     "metadata": {
      "needs_background": "light"
     },
     "output_type": "display_data"
    }
   ],
   "source": [
    "scores = fit_log_model(X_train_mult_scaled, y_train_bin, X_val_mult_scaled, y_val_bin, labels=np.linspace(0, 1, 5), model_name='spacy_vec_mult', output_dir=r'./results/')\n",
    "df_auc = pd.concat([df_auc, pd.DataFrame([scores], columns=auc_cols)], axis=0).drop_duplicates()"
   ]
  },
  {
   "cell_type": "code",
   "execution_count": 25,
   "metadata": {},
   "outputs": [
    {
     "data": {
      "image/png": "[encoded data removed]",
      "text/plain": [
       "<Figure size 576x360 with 1 Axes>"
      ]
     },
     "metadata": {
      "needs_background": "light"
     },
     "output_type": "display_data"
    },
    {
     "data": {
      "image/png": "[encoded data removed]",
      "text/plain": [
       "<Figure size 576x360 with 1 Axes>"
      ]
     },
     "metadata": {
      "needs_background": "light"
     },
     "output_type": "display_data"
    }
   ],
   "source": [
    "scores = fit_log_model(X_train_cos, y_train_bin, X_val_cos, y_val_bin, labels=np.linspace(0, 1, 5), model_name='spacy_vec_cos', output_dir=r'./results/')\n",
    "df_auc = pd.concat([df_auc, pd.DataFrame([scores], columns=auc_cols)], axis=0).drop_duplicates()"
   ]
  },
  {
   "cell_type": "code",
   "execution_count": 26,
   "metadata": {},
   "outputs": [
    {
     "data": {
      "image/png": "[encoded data removed]",
      "text/plain": [
       "<Figure size 576x360 with 1 Axes>"
      ]
     },
     "metadata": {
      "needs_background": "light"
     },
     "output_type": "display_data"
    },
    {
     "data": {
      "image/png": "[encoded data removed]",
      "text/plain": [
       "<Figure size 576x360 with 1 Axes>"
      ]
     },
     "metadata": {
      "needs_background": "light"
     },
     "output_type": "display_data"
    }
   ],
   "source": [
    "scores = fit_log_model(X_train_euc, y_train_bin, X_val_euc, y_val_bin, labels=np.linspace(0, 1, 5), model_name='spacy_vec_euc', output_dir=r'./results/')\n",
    "df_auc = pd.concat([df_auc, pd.DataFrame([scores], columns=auc_cols)], axis=0).drop_duplicates()"
   ]
  },
  {
   "cell_type": "markdown",
   "metadata": {},
   "source": [
    "### Custom Trained Word Vectors (gensim)\n",
    "---\n",
    "\n",
    "Refer to train-patents-embeddings.ipynb for details on word vector training process"
   ]
  },
  {
   "cell_type": "code",
   "execution_count": 27,
   "metadata": {},
   "outputs": [],
   "source": [
    "unique_anchor_words = set()\n",
    "unique_target_words = set()\n",
    "\n",
    "df_train['preproc_anchor'].str.split().apply(unique_anchor_words.update)\n",
    "df_train['preproc_target'].str.split().apply(unique_target_words.update)\n",
    "unique_train_words = unique_anchor_words.union(unique_target_words)"
   ]
  },
  {
   "cell_type": "code",
   "execution_count": 28,
   "metadata": {},
   "outputs": [],
   "source": [
    "def check_vocab(model, train_vocab):\n",
    "    oov = []\n",
    "    iv = []\n",
    "    i = 0\n",
    "    for word in train_vocab:\n",
    "        try:\n",
    "            vec = model.wv[word]\n",
    "            iv.append(word)\n",
    "        except:\n",
    "            oov.append(word)\n",
    "\n",
    "        i += 1\n",
    "\n",
    "    print('Total Train Vocab: %i' % len(train_vocab))\n",
    "    print('In-vocab: %i' % len(iv))\n",
    "    print('Out-of-Vocab: %i' % len(oov))"
   ]
  },
  {
   "cell_type": "code",
   "execution_count": 29,
   "metadata": {},
   "outputs": [
    {
     "name": "stdout",
     "output_type": "stream",
     "text": [
      "Total Train Vocab: 7191\n",
      "In-vocab: 22\n",
      "Out-of-Vocab: 7169\n"
     ]
    }
   ],
   "source": [
    "model = Word2Vec.load(r'./models/patents-2022-w2v.model')\n",
    "check_vocab(model, unique_train_words)"
   ]
  },
  {
   "cell_type": "code",
   "execution_count": 30,
   "metadata": {},
   "outputs": [
    {
     "name": "stdout",
     "output_type": "stream",
     "text": [
      "Total Train Vocab: 7191\n",
      "In-vocab: 22\n",
      "Out-of-Vocab: 7169\n"
     ]
    }
   ],
   "source": [
    "model = Word2Vec.load(r'./models/patents-2022-w2v-ngram.model')\n",
    "check_vocab(model, unique_train_words)"
   ]
  },
  {
   "cell_type": "code",
   "execution_count": 31,
   "metadata": {},
   "outputs": [
    {
     "name": "stdout",
     "output_type": "stream",
     "text": [
      "Total Train Vocab: 7191\n",
      "In-vocab: 7191\n",
      "Out-of-Vocab: 0\n"
     ]
    }
   ],
   "source": [
    "ft_model = FastText.load(r'./models/patents-2022-fasttext.model')\n",
    "check_vocab(ft_model, unique_train_words)"
   ]
  },
  {
   "cell_type": "markdown",
   "metadata": {},
   "source": [
    "__Observations__\n",
    "\n",
    "* As shown above, the word2vec models are unusable since the corpus it was trained on was relatively small (~6 months worth of patents). This results in only 22 words being in-vocab.\n",
    "\n",
    "* The FastText model uses a subword model, thus, it will always return a word vector. "
   ]
  },
  {
   "cell_type": "code",
   "execution_count": 32,
   "metadata": {},
   "outputs": [
    {
     "name": "stdout",
     "output_type": "stream",
     "text": [
      "CPU times: user 12.1 s, sys: 8.79 s, total: 20.9 s\n",
      "Wall time: 20.9 s\n"
     ]
    }
   ],
   "source": [
    "%%time\n",
    "X_train_mult_custom, X_train_cos_custom, X_train_euc_custom = get_feature_vecs(df_train, ft_model, vec_len=100, model_type='gensim')\n",
    "X_val_mult_custom, X_val_cos_custom, X_val_euc_custom = get_feature_vecs(df_val, ft_model, vec_len=100, model_type='gensim')"
   ]
  },
  {
   "cell_type": "markdown",
   "metadata": {},
   "source": [
    "#### Linear Regression"
   ]
  },
  {
   "cell_type": "code",
   "execution_count": 33,
   "metadata": {},
   "outputs": [
    {
     "name": "stdout",
     "output_type": "stream",
     "text": [
      "LINEAR REGRESSION:\n",
      "R^2 Score: -5.9379\n",
      "RMSE: 0.6890\n",
      "\n",
      "RIDGE REGRESSION:\n",
      "R^2 Score: 0.0001\n",
      "RMSE: 0.2616\n",
      "\n",
      "ELASTICNET REGRESSION:\n",
      "R^2 Score: -0.0001\n",
      "RMSE: 0.2616\n",
      "\n"
     ]
    }
   ],
   "source": [
    "scores = fit_linear_models(X_train_mult_custom, y_train, X_val_mult_custom, y_val, feature_eng_method='gensim_vec_mult')\n",
    "df_rmse = pd.concat([df_rmse, pd.DataFrame(scores, columns=rmse_cols)], axis=0).drop_duplicates()"
   ]
  },
  {
   "cell_type": "code",
   "execution_count": 34,
   "metadata": {},
   "outputs": [
    {
     "name": "stdout",
     "output_type": "stream",
     "text": [
      "LINEAR REGRESSION:\n",
      "R^2 Score: 0.1676\n",
      "RMSE: 0.2387\n",
      "\n",
      "RIDGE REGRESSION:\n",
      "R^2 Score: 0.1676\n",
      "RMSE: 0.2387\n",
      "\n",
      "ELASTICNET REGRESSION:\n",
      "R^2 Score: 0.1675\n",
      "RMSE: 0.2387\n",
      "\n"
     ]
    }
   ],
   "source": [
    "scores = fit_linear_models(X_train_cos_custom, y_train, X_val_cos_custom, y_val, feature_eng_method='gensim_vec_cos')\n",
    "df_rmse = pd.concat([df_rmse, pd.DataFrame(scores, columns=rmse_cols)], axis=0).drop_duplicates()"
   ]
  },
  {
   "cell_type": "code",
   "execution_count": 35,
   "metadata": {},
   "outputs": [
    {
     "name": "stdout",
     "output_type": "stream",
     "text": [
      "LINEAR REGRESSION:\n",
      "R^2 Score: -0.0006\n",
      "RMSE: 0.2617\n",
      "\n",
      "RIDGE REGRESSION:\n",
      "R^2 Score: -0.0006\n",
      "RMSE: 0.2617\n",
      "\n",
      "ELASTICNET REGRESSION:\n",
      "R^2 Score: -0.0005\n",
      "RMSE: 0.2617\n",
      "\n"
     ]
    }
   ],
   "source": [
    "scores = fit_linear_models(X_train_euc_custom, y_train, X_val_euc_custom, y_val, feature_eng_method='gensim_vec_euc')\n",
    "df_rmse = pd.concat([df_rmse, pd.DataFrame(scores, columns=rmse_cols)], axis=0).drop_duplicates()"
   ]
  },
  {
   "cell_type": "markdown",
   "metadata": {},
   "source": [
    "#### Logistic Regression"
   ]
  },
  {
   "cell_type": "code",
   "execution_count": 36,
   "metadata": {},
   "outputs": [],
   "source": [
    "# X_train_scaled used for numerical stability, X_train has trouble converging\n",
    "sc = StandardScaler()\n",
    "X_train_mult_custom_scaled = sc.fit_transform(X_train_mult_custom)\n",
    "X_val_mult_custom_scaled = sc.transform(X_val_mult_custom)"
   ]
  },
  {
   "cell_type": "code",
   "execution_count": 37,
   "metadata": {},
   "outputs": [
    {
     "data": {
      "image/png": "[encoded data removed]",
      "text/plain": [
       "<Figure size 576x360 with 1 Axes>"
      ]
     },
     "metadata": {
      "needs_background": "light"
     },
     "output_type": "display_data"
    },
    {
     "data": {
      "image/png": "[encoded data removed]",
      "text/plain": [
       "<Figure size 576x360 with 1 Axes>"
      ]
     },
     "metadata": {
      "needs_background": "light"
     },
     "output_type": "display_data"
    }
   ],
   "source": [
    "scores = fit_log_model(\n",
    "    X_train_mult_custom_scaled, y_train_bin, X_val_mult_custom_scaled, y_val_bin, \n",
    "    labels=np.linspace(0, 1, 5), model_name='gensim_vec_mult', output_dir=r'./results/'\n",
    "    )\n",
    "\n",
    "df_auc = pd.concat([df_auc, pd.DataFrame([scores], columns=auc_cols)], axis=0).drop_duplicates()"
   ]
  },
  {
   "cell_type": "code",
   "execution_count": 38,
   "metadata": {},
   "outputs": [
    {
     "data": {
      "image/png": "[encoded data removed]",
      "text/plain": [
       "<Figure size 576x360 with 1 Axes>"
      ]
     },
     "metadata": {
      "needs_background": "light"
     },
     "output_type": "display_data"
    },
    {
     "data": {
      "image/png": "[encoded data removed]",
      "text/plain": [
       "<Figure size 576x360 with 1 Axes>"
      ]
     },
     "metadata": {
      "needs_background": "light"
     },
     "output_type": "display_data"
    }
   ],
   "source": [
    "scores = fit_log_model(\n",
    "    X_train_cos_custom, y_train_bin, X_val_cos_custom, y_val_bin, \n",
    "    labels=np.linspace(0, 1, 5), model_name='gensim_vec_cos', output_dir=r'./results/'\n",
    "    )\n",
    "\n",
    "df_auc = pd.concat([df_auc, pd.DataFrame([scores], columns=auc_cols)], axis=0).drop_duplicates()"
   ]
  },
  {
   "cell_type": "code",
   "execution_count": 39,
   "metadata": {},
   "outputs": [
    {
     "data": {
      "image/png": "[encoded data removed]",
      "text/plain": [
       "<Figure size 576x360 with 1 Axes>"
      ]
     },
     "metadata": {
      "needs_background": "light"
     },
     "output_type": "display_data"
    },
    {
     "data": {
      "image/png": "[encoded data removed]",
      "text/plain": [
       "<Figure size 576x360 with 1 Axes>"
      ]
     },
     "metadata": {
      "needs_background": "light"
     },
     "output_type": "display_data"
    }
   ],
   "source": [
    "scores = fit_log_model(\n",
    "    X_train_euc_custom, y_train_bin, X_val_euc_custom, y_val_bin, \n",
    "    labels=np.linspace(0, 1, 5), model_name='gensim_vec_euc', output_dir=r'./results/'\n",
    "    )\n",
    "\n",
    "df_auc = pd.concat([df_auc, pd.DataFrame([scores], columns=auc_cols)], axis=0).drop_duplicates()"
   ]
  },
  {
   "cell_type": "code",
   "execution_count": 41,
   "metadata": {},
   "outputs": [
    {
     "data": {
      "text/html": [
       "<div>\n",
       "<style scoped>\n",
       "    .dataframe tbody tr th:only-of-type {\n",
       "        vertical-align: middle;\n",
       "    }\n",
       "\n",
       "    .dataframe tbody tr th {\n",
       "        vertical-align: top;\n",
       "    }\n",
       "\n",
       "    .dataframe thead th {\n",
       "        text-align: right;\n",
       "    }\n",
       "</style>\n",
       "<table border=\"1\" class=\"dataframe\">\n",
       "  <thead>\n",
       "    <tr style=\"text-align: right;\">\n",
       "      <th></th>\n",
       "      <th>feature_eng_method</th>\n",
       "      <th>regression_model</th>\n",
       "      <th>r2_score</th>\n",
       "      <th>rmse</th>\n",
       "    </tr>\n",
       "  </thead>\n",
       "  <tbody>\n",
       "    <tr>\n",
       "      <th>0</th>\n",
       "      <td>edit_distance</td>\n",
       "      <td>linear</td>\n",
       "      <td>0.085168</td>\n",
       "      <td>0.250204</td>\n",
       "    </tr>\n",
       "    <tr>\n",
       "      <th>1</th>\n",
       "      <td>edit_distance</td>\n",
       "      <td>ridge</td>\n",
       "      <td>0.085168</td>\n",
       "      <td>0.250204</td>\n",
       "    </tr>\n",
       "    <tr>\n",
       "      <th>2</th>\n",
       "      <td>edit_distance</td>\n",
       "      <td>elastic_net</td>\n",
       "      <td>0.085165</td>\n",
       "      <td>0.250204</td>\n",
       "    </tr>\n",
       "    <tr>\n",
       "      <th>0</th>\n",
       "      <td>spacy_vec_mult</td>\n",
       "      <td>linear</td>\n",
       "      <td>0.17873</td>\n",
       "      <td>0.237064</td>\n",
       "    </tr>\n",
       "    <tr>\n",
       "      <th>1</th>\n",
       "      <td>spacy_vec_mult</td>\n",
       "      <td>ridge</td>\n",
       "      <td>0.17969</td>\n",
       "      <td>0.236926</td>\n",
       "    </tr>\n",
       "    <tr>\n",
       "      <th>2</th>\n",
       "      <td>spacy_vec_mult</td>\n",
       "      <td>elastic_net</td>\n",
       "      <td>0.178148</td>\n",
       "      <td>0.237148</td>\n",
       "    </tr>\n",
       "    <tr>\n",
       "      <th>0</th>\n",
       "      <td>spacy_vec_cos</td>\n",
       "      <td>linear</td>\n",
       "      <td>0.179477</td>\n",
       "      <td>0.236957</td>\n",
       "    </tr>\n",
       "    <tr>\n",
       "      <th>1</th>\n",
       "      <td>spacy_vec_cos</td>\n",
       "      <td>ridge</td>\n",
       "      <td>0.17947</td>\n",
       "      <td>0.236958</td>\n",
       "    </tr>\n",
       "    <tr>\n",
       "      <th>2</th>\n",
       "      <td>spacy_vec_cos</td>\n",
       "      <td>elastic_net</td>\n",
       "      <td>0.179191</td>\n",
       "      <td>0.236998</td>\n",
       "    </tr>\n",
       "    <tr>\n",
       "      <th>0</th>\n",
       "      <td>spacy_vec_euc</td>\n",
       "      <td>linear</td>\n",
       "      <td>0.228557</td>\n",
       "      <td>0.22976</td>\n",
       "    </tr>\n",
       "    <tr>\n",
       "      <th>1</th>\n",
       "      <td>spacy_vec_euc</td>\n",
       "      <td>ridge</td>\n",
       "      <td>0.228555</td>\n",
       "      <td>0.229761</td>\n",
       "    </tr>\n",
       "    <tr>\n",
       "      <th>2</th>\n",
       "      <td>spacy_vec_euc</td>\n",
       "      <td>elastic_net</td>\n",
       "      <td>0.228542</td>\n",
       "      <td>0.229763</td>\n",
       "    </tr>\n",
       "    <tr>\n",
       "      <th>0</th>\n",
       "      <td>gensim_vec_mult</td>\n",
       "      <td>linear</td>\n",
       "      <td>-5.937896</td>\n",
       "      <td>0.689029</td>\n",
       "    </tr>\n",
       "    <tr>\n",
       "      <th>1</th>\n",
       "      <td>gensim_vec_mult</td>\n",
       "      <td>ridge</td>\n",
       "      <td>0.000106</td>\n",
       "      <td>0.261577</td>\n",
       "    </tr>\n",
       "    <tr>\n",
       "      <th>2</th>\n",
       "      <td>gensim_vec_mult</td>\n",
       "      <td>elastic_net</td>\n",
       "      <td>-0.000106</td>\n",
       "      <td>0.261605</td>\n",
       "    </tr>\n",
       "    <tr>\n",
       "      <th>0</th>\n",
       "      <td>gensim_vec_cos</td>\n",
       "      <td>linear</td>\n",
       "      <td>0.16762</td>\n",
       "      <td>0.238662</td>\n",
       "    </tr>\n",
       "    <tr>\n",
       "      <th>1</th>\n",
       "      <td>gensim_vec_cos</td>\n",
       "      <td>ridge</td>\n",
       "      <td>0.167617</td>\n",
       "      <td>0.238663</td>\n",
       "    </tr>\n",
       "    <tr>\n",
       "      <th>2</th>\n",
       "      <td>gensim_vec_cos</td>\n",
       "      <td>elastic_net</td>\n",
       "      <td>0.167491</td>\n",
       "      <td>0.238681</td>\n",
       "    </tr>\n",
       "    <tr>\n",
       "      <th>0</th>\n",
       "      <td>gensim_vec_euc</td>\n",
       "      <td>linear</td>\n",
       "      <td>-0.000639</td>\n",
       "      <td>0.261675</td>\n",
       "    </tr>\n",
       "    <tr>\n",
       "      <th>1</th>\n",
       "      <td>gensim_vec_euc</td>\n",
       "      <td>ridge</td>\n",
       "      <td>-0.000633</td>\n",
       "      <td>0.261674</td>\n",
       "    </tr>\n",
       "    <tr>\n",
       "      <th>2</th>\n",
       "      <td>gensim_vec_euc</td>\n",
       "      <td>elastic_net</td>\n",
       "      <td>-0.000536</td>\n",
       "      <td>0.261661</td>\n",
       "    </tr>\n",
       "  </tbody>\n",
       "</table>\n",
       "</div>"
      ],
      "text/plain": [
       "  feature_eng_method regression_model  r2_score      rmse\n",
       "0      edit_distance           linear  0.085168  0.250204\n",
       "1      edit_distance            ridge  0.085168  0.250204\n",
       "2      edit_distance      elastic_net  0.085165  0.250204\n",
       "0     spacy_vec_mult           linear   0.17873  0.237064\n",
       "1     spacy_vec_mult            ridge   0.17969  0.236926\n",
       "2     spacy_vec_mult      elastic_net  0.178148  0.237148\n",
       "0      spacy_vec_cos           linear  0.179477  0.236957\n",
       "1      spacy_vec_cos            ridge   0.17947  0.236958\n",
       "2      spacy_vec_cos      elastic_net  0.179191  0.236998\n",
       "0      spacy_vec_euc           linear  0.228557   0.22976\n",
       "1      spacy_vec_euc            ridge  0.228555  0.229761\n",
       "2      spacy_vec_euc      elastic_net  0.228542  0.229763\n",
       "0    gensim_vec_mult           linear -5.937896  0.689029\n",
       "1    gensim_vec_mult            ridge  0.000106  0.261577\n",
       "2    gensim_vec_mult      elastic_net -0.000106  0.261605\n",
       "0     gensim_vec_cos           linear   0.16762  0.238662\n",
       "1     gensim_vec_cos            ridge  0.167617  0.238663\n",
       "2     gensim_vec_cos      elastic_net  0.167491  0.238681\n",
       "0     gensim_vec_euc           linear -0.000639  0.261675\n",
       "1     gensim_vec_euc            ridge -0.000633  0.261674\n",
       "2     gensim_vec_euc      elastic_net -0.000536  0.261661"
      ]
     },
     "metadata": {},
     "output_type": "display_data"
    }
   ],
   "source": [
    "pd.set_option('display.max_rows', 1000)\n",
    "display(df_rmse)"
   ]
  },
  {
   "cell_type": "code",
   "execution_count": 43,
   "metadata": {},
   "outputs": [
    {
     "data": {
      "text/html": [
       "<div>\n",
       "<style scoped>\n",
       "    .dataframe tbody tr th:only-of-type {\n",
       "        vertical-align: middle;\n",
       "    }\n",
       "\n",
       "    .dataframe tbody tr th {\n",
       "        vertical-align: top;\n",
       "    }\n",
       "\n",
       "    .dataframe thead th {\n",
       "        text-align: right;\n",
       "    }\n",
       "</style>\n",
       "<table border=\"1\" class=\"dataframe\">\n",
       "  <thead>\n",
       "    <tr style=\"text-align: right;\">\n",
       "      <th></th>\n",
       "      <th>feature_eng_method</th>\n",
       "      <th>auroc_0.00</th>\n",
       "      <th>auroc_0.25</th>\n",
       "      <th>auroc_0.50</th>\n",
       "      <th>auroc_0.75</th>\n",
       "      <th>auroc_1.00</th>\n",
       "      <th>aupr_0.00</th>\n",
       "      <th>aupr_0.25</th>\n",
       "      <th>aupr_0.50</th>\n",
       "      <th>aupr_0.75</th>\n",
       "      <th>aupr_1.00</th>\n",
       "      <th>avg_auroc</th>\n",
       "      <th>avg_aupr</th>\n",
       "    </tr>\n",
       "  </thead>\n",
       "  <tbody>\n",
       "    <tr>\n",
       "      <th>0</th>\n",
       "      <td>edit_distance</td>\n",
       "      <td>0.532272</td>\n",
       "      <td>0.676478</td>\n",
       "      <td>0.553923</td>\n",
       "      <td>0.679756</td>\n",
       "      <td>0.925905</td>\n",
       "      <td>0.218208</td>\n",
       "      <td>0.433912</td>\n",
       "      <td>0.344697</td>\n",
       "      <td>0.188444</td>\n",
       "      <td>0.678636</td>\n",
       "      <td>0.673667</td>\n",
       "      <td>0.372779</td>\n",
       "    </tr>\n",
       "    <tr>\n",
       "      <th>0</th>\n",
       "      <td>spacy_vec_mult</td>\n",
       "      <td>0.704035</td>\n",
       "      <td>0.728201</td>\n",
       "      <td>0.67285</td>\n",
       "      <td>0.682937</td>\n",
       "      <td>0.869745</td>\n",
       "      <td>0.366669</td>\n",
       "      <td>0.537146</td>\n",
       "      <td>0.472205</td>\n",
       "      <td>0.190686</td>\n",
       "      <td>0.191657</td>\n",
       "      <td>0.731553</td>\n",
       "      <td>0.351673</td>\n",
       "    </tr>\n",
       "    <tr>\n",
       "      <th>0</th>\n",
       "      <td>spacy_vec_cos</td>\n",
       "      <td>0.647416</td>\n",
       "      <td>0.718023</td>\n",
       "      <td>0.669624</td>\n",
       "      <td>0.709833</td>\n",
       "      <td>0.917608</td>\n",
       "      <td>0.291446</td>\n",
       "      <td>0.45304</td>\n",
       "      <td>0.436281</td>\n",
       "      <td>0.212217</td>\n",
       "      <td>0.51149</td>\n",
       "      <td>0.732501</td>\n",
       "      <td>0.380895</td>\n",
       "    </tr>\n",
       "    <tr>\n",
       "      <th>0</th>\n",
       "      <td>spacy_vec_euc</td>\n",
       "      <td>0.626696</td>\n",
       "      <td>0.734421</td>\n",
       "      <td>0.653519</td>\n",
       "      <td>0.740801</td>\n",
       "      <td>0.932732</td>\n",
       "      <td>0.273665</td>\n",
       "      <td>0.495341</td>\n",
       "      <td>0.421242</td>\n",
       "      <td>0.237666</td>\n",
       "      <td>0.604372</td>\n",
       "      <td>0.737634</td>\n",
       "      <td>0.406457</td>\n",
       "    </tr>\n",
       "    <tr>\n",
       "      <th>0</th>\n",
       "      <td>gensim_vec_mult</td>\n",
       "      <td>0.531442</td>\n",
       "      <td>0.741989</td>\n",
       "      <td>0.608647</td>\n",
       "      <td>0.659439</td>\n",
       "      <td>0.873379</td>\n",
       "      <td>0.2298</td>\n",
       "      <td>0.518022</td>\n",
       "      <td>0.401377</td>\n",
       "      <td>0.173269</td>\n",
       "      <td>0.137545</td>\n",
       "      <td>0.682979</td>\n",
       "      <td>0.292003</td>\n",
       "    </tr>\n",
       "    <tr>\n",
       "      <th>0</th>\n",
       "      <td>gensim_vec_cos</td>\n",
       "      <td>0.540034</td>\n",
       "      <td>0.755946</td>\n",
       "      <td>0.631037</td>\n",
       "      <td>0.683371</td>\n",
       "      <td>0.960412</td>\n",
       "      <td>0.216086</td>\n",
       "      <td>0.526594</td>\n",
       "      <td>0.408347</td>\n",
       "      <td>0.180156</td>\n",
       "      <td>0.599973</td>\n",
       "      <td>0.71416</td>\n",
       "      <td>0.386231</td>\n",
       "    </tr>\n",
       "    <tr>\n",
       "      <th>0</th>\n",
       "      <td>gensim_vec_euc</td>\n",
       "      <td>0.427055</td>\n",
       "      <td>0.284794</td>\n",
       "      <td>0.623395</td>\n",
       "      <td>0.330208</td>\n",
       "      <td>0.953777</td>\n",
       "      <td>0.172717</td>\n",
       "      <td>0.216839</td>\n",
       "      <td>0.403815</td>\n",
       "      <td>0.085234</td>\n",
       "      <td>0.671361</td>\n",
       "      <td>0.523846</td>\n",
       "      <td>0.309993</td>\n",
       "    </tr>\n",
       "  </tbody>\n",
       "</table>\n",
       "</div>"
      ],
      "text/plain": [
       "  feature_eng_method auroc_0.00 auroc_0.25 auroc_0.50 auroc_0.75 auroc_1.00  \\\n",
       "0      edit_distance   0.532272   0.676478   0.553923   0.679756   0.925905   \n",
       "0     spacy_vec_mult   0.704035   0.728201    0.67285   0.682937   0.869745   \n",
       "0      spacy_vec_cos   0.647416   0.718023   0.669624   0.709833   0.917608   \n",
       "0      spacy_vec_euc   0.626696   0.734421   0.653519   0.740801   0.932732   \n",
       "0    gensim_vec_mult   0.531442   0.741989   0.608647   0.659439   0.873379   \n",
       "0     gensim_vec_cos   0.540034   0.755946   0.631037   0.683371   0.960412   \n",
       "0     gensim_vec_euc   0.427055   0.284794   0.623395   0.330208   0.953777   \n",
       "\n",
       "  aupr_0.00 aupr_0.25 aupr_0.50 aupr_0.75 aupr_1.00 avg_auroc  avg_aupr  \n",
       "0  0.218208  0.433912  0.344697  0.188444  0.678636  0.673667  0.372779  \n",
       "0  0.366669  0.537146  0.472205  0.190686  0.191657  0.731553  0.351673  \n",
       "0  0.291446   0.45304  0.436281  0.212217   0.51149  0.732501  0.380895  \n",
       "0  0.273665  0.495341  0.421242  0.237666  0.604372  0.737634  0.406457  \n",
       "0    0.2298  0.518022  0.401377  0.173269  0.137545  0.682979  0.292003  \n",
       "0  0.216086  0.526594  0.408347  0.180156  0.599973   0.71416  0.386231  \n",
       "0  0.172717  0.216839  0.403815  0.085234  0.671361  0.523846  0.309993  "
      ]
     },
     "metadata": {},
     "output_type": "display_data"
    }
   ],
   "source": [
    "pd.set_option('display.max_rows', 1000)\n",
    "display(df_auc)"
   ]
  },
  {
   "cell_type": "code",
   "execution_count": 44,
   "metadata": {},
   "outputs": [],
   "source": [
    "df_rmse.to_csv(r'./results/lin_reg_results.csv')\n",
    "df_auc.to_csv(r'./results/log_reg_results.csv')"
   ]
  },
  {
   "cell_type": "markdown",
   "metadata": {},
   "source": [
    "### Conclusions\n",
    "---"
   ]
  },
  {
   "cell_type": "markdown",
   "metadata": {},
   "source": [
    "* Posing the "
   ]
  }
 ],
 "metadata": {
  "kernelspec": {
   "display_name": "Python 3.9.13 ('nlp')",
   "language": "python",
   "name": "python3"
  },
  "language_info": {
   "codemirror_mode": {
    "name": "ipython",
    "version": 3
   },
   "file_extension": ".py",
   "mimetype": "text/x-python",
   "name": "python",
   "nbconvert_exporter": "python",
   "pygments_lexer": "ipython3",
   "version": "3.9.13"
  },
  "orig_nbformat": 4,
  "vscode": {
   "interpreter": {
    "hash": "48d39e6237c53a792bc3d9d6b208352e55e343682fa024294b0ea54c5b55a601"
   }
  }
 },
 "nbformat": 4,
 "nbformat_minor": 2
}
