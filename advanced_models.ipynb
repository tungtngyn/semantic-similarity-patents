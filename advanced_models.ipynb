{
 "cells": [
  {
   "cell_type": "markdown",
   "metadata": {},
   "source": [
    "# Advanced Models for Semantic Similarity Predictions\n",
    "\n",
    "Dataset: [Semantic Similarity Predictions for Phrases in U.S. Patents](https://www.kaggle.com/competitions/us-patent-phrase-to-phrase-matching)\n",
    "\n",
    "This notebook builds off of linear_models.ipynb and trains advanced machine learning models (e.g. Random Forest, Pre-trained Transformer)\n",
    "\n",
    "* The cosine similarity between spaCy word vectors of the anchor & target phrase from linear_models.ipynb performed the best. This notebook fits a Random Forest Regressor & Classifier using this feature engineering method.\n",
    "\n",
    "* Moving beyond model training from scratch, a pre-trained Transformer will also be fine-tuned to this dataset in this notebook."
   ]
  },
  {
   "cell_type": "markdown",
   "metadata": {},
   "source": [
    "### Preprocessing\n",
    "---"
   ]
  },
  {
   "cell_type": "code",
   "execution_count": 1,
   "metadata": {},
   "outputs": [],
   "source": [
    "import pandas as pd\n",
    "import numpy as np\n",
    "import matplotlib.pyplot as plt\n",
    "import spacy\n",
    "\n",
    "from nltk.stem import WordNetLemmatizer, PorterStemmer\n",
    "from nltk.corpus import stopwords\n",
    "from nltk.tokenize import word_tokenize\n",
    "\n",
    "from sklearn.metrics import auc, roc_curve, precision_recall_curve\n",
    "from sklearn.multiclass import OneVsRestClassifier\n",
    "from sklearn.preprocessing import LabelEncoder, label_binarize\n",
    "from sklearn.model_selection import train_test_split, RandomizedSearchCV, GridSearchCV\n",
    "from sklearn.ensemble import RandomForestRegressor, RandomForestClassifier\n",
    "from sklearn.metrics import r2_score, mean_squared_error\n",
    "from sklearn.metrics.pairwise import cosine_similarity"
   ]
  },
  {
   "cell_type": "code",
   "execution_count": 2,
   "metadata": {},
   "outputs": [],
   "source": [
    "df_train_val = pd.read_csv('./data/train.csv')\n",
    "df_test = pd.read_csv('./data/test.csv')\n",
    "df_titles = pd.read_csv('./data/titles.csv')\n",
    "\n",
    "df_train, df_val = train_test_split(df_train_val, test_size=0.2, random_state=1)"
   ]
  },
  {
   "cell_type": "code",
   "execution_count": 3,
   "metadata": {},
   "outputs": [],
   "source": [
    "lm = WordNetLemmatizer()\n",
    "ps = PorterStemmer()\n",
    "\n",
    "def lemmatize(text):\n",
    "    return lm.lemmatize(text)\n",
    "\n",
    "def stem(text):\n",
    "    return ps.stem(text)\n",
    "\n",
    "def remove_stopwords(tokens):\n",
    "    tokens = [token.lower().strip() for token in tokens]\n",
    "    filtered_tokens = [token for token in tokens if token not in stopwords.words('english')]\n",
    "    return filtered_tokens\n",
    "\n",
    "def preprocess(sent, method='lem'):\n",
    "    tokens = word_tokenize(sent)\n",
    "    filtered_tokens = remove_stopwords(tokens)\n",
    "    \n",
    "    if method == 'lem':\n",
    "        tokens = [lemmatize(token) for token in filtered_tokens]\n",
    "    else:\n",
    "        tokens = [stem(token) for token in filtered_tokens]\n",
    "\n",
    "    return ' '.join(tokens)"
   ]
  },
  {
   "cell_type": "code",
   "execution_count": 4,
   "metadata": {},
   "outputs": [
    {
     "name": "stdout",
     "output_type": "stream",
     "text": [
      "CPU times: user 9.79 s, sys: 1.22 s, total: 11 s\n",
      "Wall time: 11 s\n"
     ]
    }
   ],
   "source": [
    "%%time\n",
    "df_train['preproc_anchor'] = df_train['anchor'].apply(lambda x: preprocess(x))\n",
    "df_train['preproc_target'] = df_train['target'].apply(lambda x: preprocess(x))\n",
    "\n",
    "df_val['preproc_anchor'] = df_val['anchor'].apply(lambda x: preprocess(x))\n",
    "df_val['preproc_target'] = df_val['target'].apply(lambda x: preprocess(x))"
   ]
  },
  {
   "cell_type": "markdown",
   "metadata": {},
   "source": [
    "#### X_train & y_train"
   ]
  },
  {
   "cell_type": "code",
   "execution_count": 4,
   "metadata": {},
   "outputs": [],
   "source": [
    "y_train = df_train['score'].to_numpy().reshape(-1, 1)\n",
    "y_val = df_val['score'].to_numpy().reshape(-1, 1)"
   ]
  },
  {
   "cell_type": "code",
   "execution_count": 5,
   "metadata": {},
   "outputs": [],
   "source": [
    "# Encode first before binarize, binarize doesnt supporting floating point classes (e.g., 0.00, 0.25, etc)\n",
    "le = LabelEncoder()\n",
    "y_train_enc = le.fit_transform(df_train['score'])\n",
    "y_val_enc = le.transform(df_val['score'])"
   ]
  },
  {
   "cell_type": "code",
   "execution_count": 6,
   "metadata": {},
   "outputs": [],
   "source": [
    "y_train_bin = label_binarize(y_train_enc, classes=np.arange(0, 5))\n",
    "y_val_bin = label_binarize(y_val_enc, classes=np.arange(0, 5))"
   ]
  },
  {
   "cell_type": "code",
   "execution_count": 5,
   "metadata": {},
   "outputs": [],
   "source": [
    "nlp = spacy.load('en_core_web_lg')\n",
    "\n",
    "def get_feature_vecs(df, model, vec_len=100, model_type='spacy'):\n",
    "    mult = np.empty((0, vec_len), np.float32)\n",
    "    cos_sim = np.empty((0, 0), np.float32)\n",
    "    euc_dist = np.empty((0, 0), np.float32)\n",
    "\n",
    "    for ind, row in df.iterrows():\n",
    "        anchor_phrase = row['preproc_anchor']\n",
    "        target_phrase = row['preproc_target']\n",
    "\n",
    "        if model_type == 'spacy':\n",
    "            anchor_vecs = np.array([nlp(word).vector for word in anchor_phrase.split(' ')])\n",
    "            target_vecs = np.array([nlp(word).vector for word in target_phrase.split(' ')])\n",
    "        elif model_type == 'gensim':\n",
    "            anchor_vecs = np.array([model.wv[word] for word in anchor_phrase.split(' ')])\n",
    "            target_vecs = np.array([model.wv[word] for word in target_phrase.split(' ')])\n",
    "        \n",
    "        avg_anchor_vecs = np.average(anchor_vecs, axis=0).reshape(1, -1)\n",
    "        avg_target_vecs = np.average(target_vecs, axis=0).reshape(1, -1)\n",
    "\n",
    "        feature_vec = np.multiply(avg_anchor_vecs, avg_target_vecs)\n",
    "\n",
    "        mult = np.append(mult, feature_vec.reshape(1, vec_len), axis=0)\n",
    "        cos_sim = np.append(cos_sim, cosine_similarity(avg_anchor_vecs, avg_target_vecs).flatten())\n",
    "        euc_dist = np.append(euc_dist, np.sqrt(np.sum(np.square(avg_anchor_vecs - avg_target_vecs))))\n",
    "\n",
    "    return mult, cos_sim.reshape(-1, 1), euc_dist.reshape(-1, 1)"
   ]
  },
  {
   "cell_type": "code",
   "execution_count": 11,
   "metadata": {},
   "outputs": [
    {
     "name": "stdout",
     "output_type": "stream",
     "text": [
      "CPU times: user 6min 36s, sys: 37.6 s, total: 7min 14s\n",
      "Wall time: 7min 16s\n"
     ]
    }
   ],
   "source": [
    "%%time\n",
    "X_train_mult, X_train_cos, X_train_euc = get_feature_vecs(df_train, nlp, vec_len=300)\n",
    "X_val_mult, X_val_cos, X_val_euc = get_feature_vecs(df_val, nlp, vec_len=300)"
   ]
  },
  {
   "cell_type": "markdown",
   "metadata": {},
   "source": [
    "### Helper Functions\n",
    "---"
   ]
  },
  {
   "cell_type": "code",
   "execution_count": 6,
   "metadata": {},
   "outputs": [],
   "source": [
    "def plot_roc_auc(y_true, y_pred, labels, model_name, file_path, figsize=(15, 10)):\n",
    "    \n",
    "    areas = []\n",
    "\n",
    "    fig, ax = plt.subplots(1, 1, figsize=figsize)\n",
    "    for i, lbl in enumerate(labels):\n",
    "        fpr, tpr, thresholds = roc_curve(y_true[:, i], y_pred[:, i])\n",
    "        areas.append(auc(fpr, tpr))\n",
    "        ax.plot(fpr, tpr, label = 'Score = %.2f (AUC: %0.5f)'  % (lbl, areas[i]))\n",
    "\n",
    "    ax.legend()\n",
    "    ax.set_title('ROC Curves - ' + model_name);\n",
    "    ax.set_xlabel('False Positive Rate (FPR)');\n",
    "    ax.set_ylabel('True Positive Rate (TPR)');\n",
    "    fig.savefig(file_path)\n",
    "    plt.close(fig)\n",
    "\n",
    "    return areas\n",
    "\n",
    "\n",
    "def plot_precision_recall_auc(y_true, y_pred, labels, model_name, file_path, figsize=(15, 10)):\n",
    "\n",
    "    areas = []\n",
    "\n",
    "    fig, ax = plt.subplots(1, 1, figsize=figsize)\n",
    "    for i, lbl in enumerate(labels):\n",
    "        pr, rc, thresholds = precision_recall_curve(y_true[:, i], y_pred[:, i])\n",
    "        areas.append(auc(rc, pr))\n",
    "        ax.plot(rc, pr, label = 'Score = %s (AUC: %0.5f)'  % (lbl, areas[i]))\n",
    "\n",
    "    ax.legend()\n",
    "    ax.set_title('Precision-Recall Curve - ' + model_name);\n",
    "    ax.set_xlabel('Recall');\n",
    "    ax.set_ylabel('Precision');\n",
    "    fig.savefig(file_path)\n",
    "    plt.close(fig)\n",
    "\n",
    "    return areas\n",
    "\n",
    "\n",
    "def plot_auc(labels, values, title):\n",
    "    plt.figure(figsize=(8, 5))\n",
    "    fig = plt.bar([str('%.2f' % x) for x in labels], values)\n",
    "    plt.xlabel('Label')\n",
    "    plt.ylabel('AUC')\n",
    "    plt.title(title)\n",
    "    plt.bar_label(fig, fmt='%.4f')"
   ]
  },
  {
   "cell_type": "code",
   "execution_count": 39,
   "metadata": {},
   "outputs": [],
   "source": [
    "def return_scores(y_val, y_pred, print_output=True):\n",
    "    r2s = r2_score(y_val, y_pred)\n",
    "    rmse = mean_squared_error(y_val, y_pred, squared=False)\n",
    "\n",
    "    if print_output:\n",
    "        print(\"R^2 Score: %.4f\" % r2s)\n",
    "        print(\"RMSE: %.4f\" % rmse)\n",
    "        print()\n",
    "    return r2s, rmse\n",
    "\n",
    "\n",
    "def fit_rf_regressor_rand(X_train, y_train, X_val, y_val, param_dist, feature_eng_method, print_output=True):\n",
    "    scores = []\n",
    "    \n",
    "    reg = RandomForestRegressor(random_state=1)\n",
    "    random_search = RandomizedSearchCV(reg, param_distributions=param_dist, n_iter=100, scoring='neg_root_mean_squared_error', cv=3, random_state=1, n_jobs=4)\n",
    "    random_search.fit(X_train, y_train)\n",
    "\n",
    "    best_reg = random_search.best_estimator_\n",
    "    y_pred = best_reg.predict(X_val)\n",
    "\n",
    "    print('METRICS ON VALIDATION DATASET:')\n",
    "    r2s, rmse = return_scores(y_val, y_pred, print_output=print_output)\n",
    "    scores.append([feature_eng_method, 'random_forest_randomized', r2s, rmse])\n",
    "\n",
    "    return random_search.best_params_, scores\n",
    "\n",
    "\n",
    "def fit_rf_classifier_rand(X_train, y_train, X_val, y_val, param_dist, labels, model_name, output_dir):\n",
    "    scores = []\n",
    "    \n",
    "    reg = OneVsRestClassifier(RandomForestClassifier(random_state=1))\n",
    "    random_search = RandomizedSearchCV(reg, param_distributions=param_dist, n_iter=100, scoring='roc_auc_ovr', cv=3, random_state=1, n_jobs=4)\n",
    "    random_search.fit(X_train, y_train)\n",
    "\n",
    "    best_reg = random_search.best_estimator_\n",
    "    y_pred = best_reg.predict(X_val)\n",
    "\n",
    "    auroc = plot_roc_auc(y_val, y_pred, labels, model_name, output_dir + '/roc-' + model_name + '.jpg')\n",
    "    aupr = plot_precision_recall_auc(y_val, y_pred, labels, model_name, output_dir + '/pr-' + model_name + '.jpg')\n",
    "\n",
    "    print('AUROC & AUPR FOR VALIDATION DATASET:')\n",
    "    plot_auc(labels, auroc, 'AUROC')\n",
    "    plot_auc(labels, aupr, 'AUPR')\n",
    "\n",
    "    scores = [[model_name], auroc, aupr, [np.mean(auroc), np.mean(aupr)]]\n",
    "    return random_search.best_params_, [x for sublist in scores for x in sublist]"
   ]
  },
  {
   "cell_type": "code",
   "execution_count": 2,
   "metadata": {},
   "outputs": [],
   "source": [
    "rmse_cols = ['feature_eng_method', 'regression_model', 'r2_score', 'rmse']\n",
    "df_rmse = pd.DataFrame(columns=rmse_cols)"
   ]
  },
  {
   "cell_type": "code",
   "execution_count": 3,
   "metadata": {},
   "outputs": [],
   "source": [
    "auroc = ['auroc_%.2f' % x for x in np.linspace(0, 1, 5)]\n",
    "aupr = ['aupr_%.2f' % x for x in np.linspace(0, 1, 5)]\n",
    "avg = ['avg_auroc', 'avg_aupr']\n",
    "auc_cols = [x for sublist in [['feature_eng_method'], auroc, aupr, avg] for x in sublist]\n",
    "\n",
    "df_auc = pd.DataFrame(columns=auc_cols)"
   ]
  },
  {
   "cell_type": "markdown",
   "metadata": {},
   "source": [
    "### Random Forest\n",
    "---"
   ]
  },
  {
   "cell_type": "markdown",
   "metadata": {},
   "source": [
    "#### Regressor"
   ]
  },
  {
   "cell_type": "code",
   "execution_count": 40,
   "metadata": {},
   "outputs": [
    {
     "name": "stdout",
     "output_type": "stream",
     "text": [
      "METRICS ON VALIDATION DATASET:\n",
      "R^2 Score: 0.2536\n",
      "RMSE: 0.2260\n",
      "\n",
      "BEST PARAMETERS:\n",
      "{'n_estimators': 100, 'min_samples_split': 16, 'min_samples_leaf': 20, 'max_leaf_nodes': 32, 'max_features': 'sqrt', 'max_depth': 16, 'criterion': 'poisson', 'bootstrap': True}\n",
      "CPU times: user 18.6 s, sys: 204 ms, total: 18.8 s\n",
      "Wall time: 9min 40s\n"
     ]
    }
   ],
   "source": [
    "%%time\n",
    "rand_param_dist = {\n",
    "    'n_estimators': [100, 200],\n",
    "    'criterion': ['squared_error', 'poisson'],\n",
    "    'max_depth': [2, 8, 16, 32],\n",
    "    'min_samples_split': [2, 8, 16, 32],\n",
    "    'min_samples_leaf': [1, 10, 20],\n",
    "    'max_features': ['sqrt', 'log2'],\n",
    "    'bootstrap': [True],\n",
    "    'max_leaf_nodes': [2, 8, 16, 32],\n",
    "}\n",
    "\n",
    "params, scores = fit_rf_regressor_rand(X_train_mult, y_train.ravel(), X_val_mult, y_val.ravel(), param_dist=rand_param_dist, feature_eng_method='spacy_vec_mult')\n",
    "df_rmse = pd.concat([df_rmse, pd.DataFrame(scores, columns=rmse_cols)], axis=0).drop_duplicates()\n",
    "\n",
    "print('BEST PARAMETERS:')\n",
    "print(params)"
   ]
  },
  {
   "cell_type": "markdown",
   "metadata": {},
   "source": [
    "#### Classifier"
   ]
  },
  {
   "cell_type": "code",
   "execution_count": 41,
   "metadata": {},
   "outputs": [
    {
     "name": "stdout",
     "output_type": "stream",
     "text": [
      "AUROC & AUPR FOR VALIDATION DATASET:\n",
      "BEST PARAMETERS:\n",
      "{'estimator__n_estimators': 200, 'estimator__min_samples_split': 32, 'estimator__min_samples_leaf': 20, 'estimator__max_leaf_nodes': 32, 'estimator__max_features': 'sqrt', 'estimator__max_depth': 8, 'estimator__criterion': 'entropy', 'estimator__bootstrap': True}\n",
      "CPU times: user 3min 12s, sys: 1.26 s, total: 3min 13s\n",
      "Wall time: 57min 11s\n"
     ]
    },
    {
     "data": {
      "image/png": "[encoded data removed]",
      "text/plain": [
       "<Figure size 576x360 with 1 Axes>"
      ]
     },
     "metadata": {
      "needs_background": "light"
     },
     "output_type": "display_data"
    },
    {
     "data": {
      "image/png": "[encoded data removed]",
      "text/plain": [
       "<Figure size 576x360 with 1 Axes>"
      ]
     },
     "metadata": {
      "needs_background": "light"
     },
     "output_type": "display_data"
    }
   ],
   "source": [
    "%%time\n",
    "rand_param_dist = {\n",
    "    'estimator__n_estimators': [100, 200],\n",
    "    'estimator__criterion': ['gini', 'entropy'],\n",
    "    'estimator__max_depth': [2, 8, 16, 32],\n",
    "    'estimator__min_samples_split': [2, 8, 16, 32],\n",
    "    'estimator__min_samples_leaf': [1, 10, 20],\n",
    "    'estimator__max_features': ['sqrt', 'log2'],\n",
    "    'estimator__bootstrap': [True],\n",
    "    'estimator__max_leaf_nodes': [2, 8, 16, 32],\n",
    "}\n",
    "\n",
    "params, scores = fit_rf_classifier_rand(X_train_mult, y_train_bin, X_val_mult, y_val_bin, param_dist=rand_param_dist, labels=np.linspace(0, 1, 5), model_name='rf_rand_spacy_vec_mult', output_dir=r'./results/')\n",
    "df_auc = pd.concat([df_auc, pd.DataFrame([scores], columns=auc_cols)], axis=0).drop_duplicates()\n",
    "\n",
    "print('BEST PARAMETERS:')\n",
    "print(params)"
   ]
  },
  {
   "cell_type": "markdown",
   "metadata": {},
   "source": [
    "#### GridSearch"
   ]
  },
  {
   "cell_type": "code",
   "execution_count": 46,
   "metadata": {},
   "outputs": [],
   "source": [
    "def fit_rf_regressor_grid(X_train, y_train, X_val, y_val, param_dist, feature_eng_method, print_output=True):\n",
    "    scores = []\n",
    "    \n",
    "    reg = RandomForestRegressor(random_state=1)\n",
    "    grid_search = GridSearchCV(reg, param_grid=param_dist, scoring='neg_root_mean_squared_error', cv=3, n_jobs=4)\n",
    "    grid_search.fit(X_train, y_train)\n",
    "\n",
    "    best_reg = grid_search.best_estimator_\n",
    "    y_pred = best_reg.predict(X_val)\n",
    "\n",
    "    print('METRICS ON VALIDATION DATASET:')\n",
    "    r2s, rmse = return_scores(y_val, y_pred, print_output=print_output)\n",
    "    scores.append([feature_eng_method, 'random_forest_grid', r2s, rmse])\n",
    "\n",
    "    return grid_search.best_params_, scores\n",
    "\n",
    "\n",
    "def fit_rf_classifier_grid(X_train, y_train, X_val, y_val, param_dist, labels, model_name, output_dir):\n",
    "    scores = []\n",
    "    \n",
    "    reg = OneVsRestClassifier(RandomForestClassifier(random_state=1))\n",
    "    grid_search = GridSearchCV(reg, param_grid=param_dist, scoring='roc_auc_ovr', cv=3, n_jobs=4)\n",
    "    grid_search.fit(X_train, y_train)\n",
    "\n",
    "    best_reg = grid_search.best_estimator_\n",
    "    y_pred = best_reg.predict(X_val)\n",
    "\n",
    "    auroc = plot_roc_auc(y_val, y_pred, labels, model_name, output_dir + '/roc-' + model_name + '.jpg')\n",
    "    aupr = plot_precision_recall_auc(y_val, y_pred, labels, model_name, output_dir + '/pr-' + model_name + '.jpg')\n",
    "\n",
    "    print('AUROC & AUPR FOR VALIDATION DATASET:')\n",
    "    plot_auc(labels, auroc, 'AUROC')\n",
    "    plot_auc(labels, aupr, 'AUPR')\n",
    "\n",
    "    scores = [[model_name], auroc, aupr, [np.mean(auroc), np.mean(aupr)]]\n",
    "    return grid_search.best_params_, [x for sublist in scores for x in sublist]"
   ]
  },
  {
   "cell_type": "code",
   "execution_count": 53,
   "metadata": {},
   "outputs": [
    {
     "name": "stdout",
     "output_type": "stream",
     "text": [
      "METRICS ON VALIDATION DATASET:\n",
      "R^2 Score: 0.2558\n",
      "RMSE: 0.2257\n",
      "\n",
      "BEST PARAMETERS:\n",
      "{'bootstrap': True, 'criterion': 'poisson', 'max_depth': 18, 'max_features': 'sqrt', 'max_leaf_nodes': 34, 'min_samples_leaf': 22, 'min_samples_split': 14, 'n_estimators': 100}\n",
      "CPU times: user 19 s, sys: 189 ms, total: 19.2 s\n",
      "Wall time: 12min 41s\n"
     ]
    }
   ],
   "source": [
    "%%time\n",
    "grid_param_dist = {\n",
    "    'n_estimators': [100],\n",
    "    'criterion': ['poisson'],\n",
    "    'max_depth': [14, 16, 18],\n",
    "    'min_samples_split': [14, 16, 18],\n",
    "    'min_samples_leaf': [18, 20, 22],\n",
    "    'max_features': ['sqrt'],\n",
    "    'bootstrap': [True],\n",
    "    'max_leaf_nodes': [30, 32, 34],\n",
    "}\n",
    "\n",
    "params, scores = fit_rf_regressor_grid(X_train_mult, y_train.ravel(), X_val_mult, y_val.ravel(), param_dist=grid_param_dist, feature_eng_method='spacy_vec_mult')\n",
    "df_rmse = pd.concat([df_rmse, pd.DataFrame(scores, columns=rmse_cols)], axis=0).drop_duplicates()\n",
    "\n",
    "print('BEST PARAMETERS:')\n",
    "print(params)"
   ]
  },
  {
   "cell_type": "code",
   "execution_count": 54,
   "metadata": {},
   "outputs": [
    {
     "name": "stdout",
     "output_type": "stream",
     "text": [
      "AUROC & AUPR FOR VALIDATION DATASET:\n",
      "BEST PARAMETERS:\n",
      "{'estimator__bootstrap': True, 'estimator__criterion': 'entropy', 'estimator__max_depth': 10, 'estimator__max_features': 'sqrt', 'estimator__max_leaf_nodes': 34, 'estimator__min_samples_leaf': 18, 'estimator__min_samples_split': 30, 'estimator__n_estimators': 200}\n",
      "CPU times: user 3min 20s, sys: 529 ms, total: 3min 21s\n",
      "Wall time: 2h 8min 26s\n"
     ]
    },
    {
     "data": {
      "image/png": "[encoded data removed]",
      "text/plain": [
       "<Figure size 576x360 with 1 Axes>"
      ]
     },
     "metadata": {
      "needs_background": "light"
     },
     "output_type": "display_data"
    },
    {
     "data": {
      "image/png": "[encoded data removed]",
      "text/plain": [
       "<Figure size 576x360 with 1 Axes>"
      ]
     },
     "metadata": {
      "needs_background": "light"
     },
     "output_type": "display_data"
    }
   ],
   "source": [
    "%%time\n",
    "grid_param_dist = {\n",
    "    'estimator__n_estimators': [200],\n",
    "    'estimator__criterion': ['entropy'],\n",
    "    'estimator__max_depth': [6, 8, 10],\n",
    "    'estimator__min_samples_split': [30, 32, 34],\n",
    "    'estimator__min_samples_leaf': [18, 20, 22],\n",
    "    'estimator__max_features': ['sqrt'],\n",
    "    'estimator__bootstrap': [True],\n",
    "    'estimator__max_leaf_nodes': [30, 32, 34],\n",
    "}\n",
    "\n",
    "params, scores = fit_rf_classifier_grid(X_train_mult, y_train_bin, X_val_mult, y_val_bin, param_dist=grid_param_dist, labels=np.linspace(0, 1, 5), model_name='rf_grid_spacy_vec_mult', output_dir=r'./results/')\n",
    "df_auc = pd.concat([df_auc, pd.DataFrame([scores], columns=auc_cols)], axis=0).drop_duplicates()\n",
    "\n",
    "print('BEST PARAMETERS:')\n",
    "print(params)"
   ]
  },
  {
   "cell_type": "markdown",
   "metadata": {},
   "source": [
    "### Pre-trained Transformer (BERT for Sequence Classification)\n",
    "---"
   ]
  },
  {
   "cell_type": "markdown",
   "metadata": {},
   "source": [
    "Due to Tensorflow issues on macOS with an M1 chip, the transformer model was trained on Google Colab. View the training notebook [here](https://colab.research.google.com/drive/10cUt5uOLPzXiogx0PLI1S2MFJsASRswm?usp=sharing)."
   ]
  },
  {
   "cell_type": "markdown",
   "metadata": {},
   "source": [
    "#### Without Preprocessing (Raw Text)"
   ]
  },
  {
   "cell_type": "code",
   "execution_count": 5,
   "metadata": {},
   "outputs": [],
   "source": [
    "df_bert = pd.read_csv(r'./results/bert/without_preproc/areas.csv')\n",
    "df = df_bert[df_bert.epoch == 4]"
   ]
  },
  {
   "cell_type": "code",
   "execution_count": 15,
   "metadata": {},
   "outputs": [
    {
     "data": {
      "image/png": "[encoded data removed]",
      "text/plain": [
       "<Figure size 576x360 with 1 Axes>"
      ]
     },
     "metadata": {
      "needs_background": "light"
     },
     "output_type": "display_data"
    }
   ],
   "source": [
    "plot_auc(np.linspace(0, 1, 5), df[auroc].values.tolist()[0], 'AUROC - Pretrained BERT')"
   ]
  },
  {
   "cell_type": "code",
   "execution_count": 17,
   "metadata": {},
   "outputs": [
    {
     "data": {
      "image/png": "[encoded data removed]",
      "text/plain": [
       "<Figure size 576x360 with 1 Axes>"
      ]
     },
     "metadata": {
      "needs_background": "light"
     },
     "output_type": "display_data"
    }
   ],
   "source": [
    "plot_auc(np.linspace(0, 1, 5), df[aupr].values.tolist()[0], 'AUPR - Pretrained BERT')"
   ]
  },
  {
   "cell_type": "markdown",
   "metadata": {},
   "source": [
    "ROC and PR curves on the validation dataset is plotted below for the BERT model:\n",
    "\n",
    "![image](./results/bert/without_preproc/roc_epoch_4.jpg)\n",
    "![image](./results/bert/without_preproc/prc_epoch_4.jpg)"
   ]
  },
  {
   "cell_type": "markdown",
   "metadata": {},
   "source": [
    "#### With Preprocessing (Text Normalization)"
   ]
  },
  {
   "cell_type": "code",
   "execution_count": 10,
   "metadata": {},
   "outputs": [],
   "source": [
    "df_bert = pd.read_csv(r'./results/bert/with_preproc/areas.csv')\n",
    "df = df_bert[df_bert.epoch == 10]"
   ]
  },
  {
   "cell_type": "code",
   "execution_count": 11,
   "metadata": {},
   "outputs": [
    {
     "data": {
      "image/png": "[encoded data removed]",
      "text/plain": [
       "<Figure size 576x360 with 1 Axes>"
      ]
     },
     "metadata": {
      "needs_background": "light"
     },
     "output_type": "display_data"
    }
   ],
   "source": [
    "plot_auc(np.linspace(0, 1, 5), df[auroc].values.tolist()[0], 'AUROC - Pretrained BERT')"
   ]
  },
  {
   "cell_type": "code",
   "execution_count": 12,
   "metadata": {},
   "outputs": [
    {
     "data": {
      "image/png": "[encoded data removed]",
      "text/plain": [
       "<Figure size 576x360 with 1 Axes>"
      ]
     },
     "metadata": {
      "needs_background": "light"
     },
     "output_type": "display_data"
    }
   ],
   "source": [
    "plot_auc(np.linspace(0, 1, 5), df[aupr].values.tolist()[0], 'AUPR - Pretrained BERT')"
   ]
  },
  {
   "cell_type": "markdown",
   "metadata": {},
   "source": [
    "ROC and PR curves on the validation dataset is plotted below for the BERT model:\n",
    "\n",
    "![image](./results/bert/with_preproc/roc_epoch_10.jpg)\n",
    "![image](./results/bert/with_preproc/prc_epoch_10.jpg)"
   ]
  },
  {
   "cell_type": "markdown",
   "metadata": {},
   "source": [
    "### Conclusions\n",
    "---"
   ]
  },
  {
   "cell_type": "markdown",
   "metadata": {},
   "source": [
    "* The Random Forest Regressor model only performs slightly better than the logistic regression model from linear_models.ipynb (0.22 RMSE vs. Logistic Regression's 0.23 RMSE for the same feature engineering approach)\n",
    "\n",
    "* The Random Forest Classifier model does not seem to convert properly, as noted by the ROC of 0.5 for all classes. \n",
    "\n",
    "* Further experimentation could be done to improve the Random Forest models, however, it is clear that pre-trained word vectors alone do not make good features for semantic similarity tasks. \n",
    "\n",
    "* If resources were available, custom-trained word vectors may perform better (more suited for technical language than a general pre-trained model)\n",
    "\n",
    "* The BERT model also exhibits similar behavior to the logistic regression models from linear_models.ipynb - AUC is high for Score = 1 (e.g. extremely similar phrases) but relatively low for all other scores\n",
    "\n",
    "    * This most likely is due to the fact that phrases in Score = 1 tend to have more words in common, e.g. activating position vs activation position\n",
    "    \n",
    "    * Similar to the Random Forest, further experimentation could be done to improve BERT's accuracy (e.g. experimenting with different text preprocessing steps, learning rate, different transformer architectures, train for more epochs, etc)\n",
    "\n",
    "* When the text is preprocessed, the BERT model performs poorly. A quick [google search](https://www.researchgate.net/post/Do_you_need_to_preprocess_text_for_BERT) tells us that a pre-trained BERT model uses all information present in the sentence (incl. punctuation) + uses a wordpiece model, so lemmatization or stemming is not necessary."
   ]
  },
  {
   "cell_type": "markdown",
   "metadata": {},
   "source": []
  }
 ],
 "metadata": {
  "kernelspec": {
   "display_name": "Python 3.9.13 ('nlp')",
   "language": "python",
   "name": "python3"
  },
  "language_info": {
   "codemirror_mode": {
    "name": "ipython",
    "version": 3
   },
   "file_extension": ".py",
   "mimetype": "text/x-python",
   "name": "python",
   "nbconvert_exporter": "python",
   "pygments_lexer": "ipython3",
   "version": "3.9.13"
  },
  "orig_nbformat": 4,
  "vscode": {
   "interpreter": {
    "hash": "48d39e6237c53a792bc3d9d6b208352e55e343682fa024294b0ea54c5b55a601"
   }
  }
 },
 "nbformat": 4,
 "nbformat_minor": 2
}
