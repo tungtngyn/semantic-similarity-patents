{
 "cells": [
  {
   "cell_type": "markdown",
   "metadata": {},
   "source": [
    "# Exploratory Data Analysis\n",
    "\n",
    "Dataset: [Semantic Similarity Predictions for Phrases in U.S. Patents](https://www.kaggle.com/competitions/us-patent-phrase-to-phrase-matching)\n",
    "\n",
    "The goal of the dataset is to predict the semantic similarity score ($s \\in [0.00, 0.25, 0.50, 0.75, 1.00]$) between an anchor phrase and a target phrase, with 0 being completely unrelated and 1 being closely related."
   ]
  },
  {
   "cell_type": "markdown",
   "metadata": {},
   "source": [
    "### Load & Query Data"
   ]
  },
  {
   "cell_type": "code",
   "execution_count": 1,
   "metadata": {},
   "outputs": [],
   "source": [
    "import pandas as pd\n",
    "import numpy as np\n",
    "import matplotlib.pyplot as plt"
   ]
  },
  {
   "cell_type": "code",
   "execution_count": 43,
   "metadata": {},
   "outputs": [],
   "source": [
    "df_train = pd.read_csv('./data/train.csv')\n",
    "df_test = pd.read_csv('./data/test.csv')\n",
    "df_titles = pd.read_csv('./data/titles.csv')"
   ]
  },
  {
   "cell_type": "code",
   "execution_count": 44,
   "metadata": {},
   "outputs": [
    {
     "data": {
      "text/html": [
       "<div>\n",
       "<style scoped>\n",
       "    .dataframe tbody tr th:only-of-type {\n",
       "        vertical-align: middle;\n",
       "    }\n",
       "\n",
       "    .dataframe tbody tr th {\n",
       "        vertical-align: top;\n",
       "    }\n",
       "\n",
       "    .dataframe thead th {\n",
       "        text-align: right;\n",
       "    }\n",
       "</style>\n",
       "<table border=\"1\" class=\"dataframe\">\n",
       "  <thead>\n",
       "    <tr style=\"text-align: right;\">\n",
       "      <th></th>\n",
       "      <th>id</th>\n",
       "      <th>anchor</th>\n",
       "      <th>target</th>\n",
       "      <th>context</th>\n",
       "      <th>score</th>\n",
       "    </tr>\n",
       "  </thead>\n",
       "  <tbody>\n",
       "    <tr>\n",
       "      <th>19561</th>\n",
       "      <td>852a5e80877ad33e</td>\n",
       "      <td>materially less</td>\n",
       "      <td>slightly inner</td>\n",
       "      <td>F22</td>\n",
       "      <td>0.25</td>\n",
       "    </tr>\n",
       "    <tr>\n",
       "      <th>19445</th>\n",
       "      <td>ada2003ddbc86c0d</td>\n",
       "      <td>material formation</td>\n",
       "      <td>formation material</td>\n",
       "      <td>H01</td>\n",
       "      <td>1.00</td>\n",
       "    </tr>\n",
       "    <tr>\n",
       "      <th>15988</th>\n",
       "      <td>c006e63dc2756ac2</td>\n",
       "      <td>idle mixture</td>\n",
       "      <td>idle compiler</td>\n",
       "      <td>F02</td>\n",
       "      <td>0.00</td>\n",
       "    </tr>\n",
       "  </tbody>\n",
       "</table>\n",
       "</div>"
      ],
      "text/plain": [
       "                     id              anchor              target context  score\n",
       "19561  852a5e80877ad33e     materially less      slightly inner     F22   0.25\n",
       "19445  ada2003ddbc86c0d  material formation  formation material     H01   1.00\n",
       "15988  c006e63dc2756ac2        idle mixture       idle compiler     F02   0.00"
      ]
     },
     "metadata": {},
     "output_type": "display_data"
    },
    {
     "data": {
      "text/html": [
       "<div>\n",
       "<style scoped>\n",
       "    .dataframe tbody tr th:only-of-type {\n",
       "        vertical-align: middle;\n",
       "    }\n",
       "\n",
       "    .dataframe tbody tr th {\n",
       "        vertical-align: top;\n",
       "    }\n",
       "\n",
       "    .dataframe thead th {\n",
       "        text-align: right;\n",
       "    }\n",
       "</style>\n",
       "<table border=\"1\" class=\"dataframe\">\n",
       "  <thead>\n",
       "    <tr style=\"text-align: right;\">\n",
       "      <th></th>\n",
       "      <th>id</th>\n",
       "      <th>anchor</th>\n",
       "      <th>target</th>\n",
       "      <th>context</th>\n",
       "    </tr>\n",
       "  </thead>\n",
       "  <tbody>\n",
       "    <tr>\n",
       "      <th>30</th>\n",
       "      <td>8247ff562ca185cc</td>\n",
       "      <td>polls</td>\n",
       "      <td>pooling device</td>\n",
       "      <td>B21</td>\n",
       "    </tr>\n",
       "    <tr>\n",
       "      <th>34</th>\n",
       "      <td>79795133c30ef097</td>\n",
       "      <td>different conductivity</td>\n",
       "      <td>carrier polarity</td>\n",
       "      <td>H03</td>\n",
       "    </tr>\n",
       "    <tr>\n",
       "      <th>28</th>\n",
       "      <td>26c3c6dc6174b589</td>\n",
       "      <td>seal teeth</td>\n",
       "      <td>teeth whitening</td>\n",
       "      <td>F01</td>\n",
       "    </tr>\n",
       "  </tbody>\n",
       "</table>\n",
       "</div>"
      ],
      "text/plain": [
       "                  id                  anchor            target context\n",
       "30  8247ff562ca185cc                   polls    pooling device     B21\n",
       "34  79795133c30ef097  different conductivity  carrier polarity     H03\n",
       "28  26c3c6dc6174b589              seal teeth   teeth whitening     F01"
      ]
     },
     "metadata": {},
     "output_type": "display_data"
    },
    {
     "data": {
      "text/html": [
       "<div>\n",
       "<style scoped>\n",
       "    .dataframe tbody tr th:only-of-type {\n",
       "        vertical-align: middle;\n",
       "    }\n",
       "\n",
       "    .dataframe tbody tr th {\n",
       "        vertical-align: top;\n",
       "    }\n",
       "\n",
       "    .dataframe thead th {\n",
       "        text-align: right;\n",
       "    }\n",
       "</style>\n",
       "<table border=\"1\" class=\"dataframe\">\n",
       "  <thead>\n",
       "    <tr style=\"text-align: right;\">\n",
       "      <th></th>\n",
       "      <th>code</th>\n",
       "      <th>title</th>\n",
       "      <th>section</th>\n",
       "      <th>class</th>\n",
       "      <th>subclass</th>\n",
       "      <th>group</th>\n",
       "      <th>main_group</th>\n",
       "    </tr>\n",
       "  </thead>\n",
       "  <tbody>\n",
       "    <tr>\n",
       "      <th>135778</th>\n",
       "      <td>E05B65/1073</td>\n",
       "      <td>{the pivot axis being substantially pependicul...</td>\n",
       "      <td>E</td>\n",
       "      <td>5.0</td>\n",
       "      <td>B</td>\n",
       "      <td>65.0</td>\n",
       "      <td>1073.0</td>\n",
       "    </tr>\n",
       "    <tr>\n",
       "      <th>237145</th>\n",
       "      <td>H04M2201/08</td>\n",
       "      <td>Magnetic elements</td>\n",
       "      <td>H</td>\n",
       "      <td>4.0</td>\n",
       "      <td>M</td>\n",
       "      <td>2201.0</td>\n",
       "      <td>8.0</td>\n",
       "    </tr>\n",
       "    <tr>\n",
       "      <th>39753</th>\n",
       "      <td>B21C47/06</td>\n",
       "      <td>with loaded rollers, bolts, or equivalent mean...</td>\n",
       "      <td>B</td>\n",
       "      <td>21.0</td>\n",
       "      <td>C</td>\n",
       "      <td>47.0</td>\n",
       "      <td>6.0</td>\n",
       "    </tr>\n",
       "  </tbody>\n",
       "</table>\n",
       "</div>"
      ],
      "text/plain": [
       "               code                                              title  \\\n",
       "135778  E05B65/1073  {the pivot axis being substantially pependicul...   \n",
       "237145  H04M2201/08                                  Magnetic elements   \n",
       "39753     B21C47/06  with loaded rollers, bolts, or equivalent mean...   \n",
       "\n",
       "       section  class subclass   group  main_group  \n",
       "135778       E    5.0        B    65.0      1073.0  \n",
       "237145       H    4.0        M  2201.0         8.0  \n",
       "39753        B   21.0        C    47.0         6.0  "
      ]
     },
     "metadata": {},
     "output_type": "display_data"
    },
    {
     "name": "stdout",
     "output_type": "stream",
     "text": [
      "df_train size: (36473, 5)\n",
      "df_train size: (36, 4)\n",
      "df_train size: (260476, 7)\n"
     ]
    }
   ],
   "source": [
    "display(df_train.sample(3, random_state=1))\n",
    "display(df_test.sample(3, random_state=1))\n",
    "display(df_titles.sample(3, random_state=1))\n",
    "\n",
    "print('df_train size: {0}'.format(df_train.shape))\n",
    "print('df_train size: {0}'.format(df_test.shape))\n",
    "print('df_train size: {0}'.format(df_titles.shape))"
   ]
  },
  {
   "cell_type": "code",
   "execution_count": 92,
   "metadata": {},
   "outputs": [
    {
     "data": {
      "text/plain": [
       "id                      0\n",
       "anchor                  0\n",
       "target                  0\n",
       "context                 0\n",
       "score                   0\n",
       "title                   0\n",
       "anchor_length           0\n",
       "target_length           0\n",
       "unique_anchor_length    0\n",
       "unique_target_length    0\n",
       "dtype: int64"
      ]
     },
     "execution_count": 92,
     "metadata": {},
     "output_type": "execute_result"
    }
   ],
   "source": [
    "df_train.isna().sum()"
   ]
  },
  {
   "cell_type": "code",
   "execution_count": 45,
   "metadata": {},
   "outputs": [
    {
     "data": {
      "text/html": [
       "<div>\n",
       "<style scoped>\n",
       "    .dataframe tbody tr th:only-of-type {\n",
       "        vertical-align: middle;\n",
       "    }\n",
       "\n",
       "    .dataframe tbody tr th {\n",
       "        vertical-align: top;\n",
       "    }\n",
       "\n",
       "    .dataframe thead th {\n",
       "        text-align: right;\n",
       "    }\n",
       "</style>\n",
       "<table border=\"1\" class=\"dataframe\">\n",
       "  <thead>\n",
       "    <tr style=\"text-align: right;\">\n",
       "      <th></th>\n",
       "      <th>id</th>\n",
       "      <th>anchor</th>\n",
       "      <th>target</th>\n",
       "      <th>context</th>\n",
       "      <th>score</th>\n",
       "    </tr>\n",
       "  </thead>\n",
       "  <tbody>\n",
       "    <tr>\n",
       "      <th>4770</th>\n",
       "      <td>bf3fdc2e4b7cd659</td>\n",
       "      <td>cathode layer</td>\n",
       "      <td>outer layer</td>\n",
       "      <td>G01</td>\n",
       "      <td>0.0</td>\n",
       "    </tr>\n",
       "    <tr>\n",
       "      <th>2447</th>\n",
       "      <td>0795416ddc8d3926</td>\n",
       "      <td>average impact</td>\n",
       "      <td>average scores</td>\n",
       "      <td>G01</td>\n",
       "      <td>0.0</td>\n",
       "    </tr>\n",
       "    <tr>\n",
       "      <th>36230</th>\n",
       "      <td>314c9dcbdb2fa01d</td>\n",
       "      <td>well pump</td>\n",
       "      <td>learning</td>\n",
       "      <td>E21</td>\n",
       "      <td>0.0</td>\n",
       "    </tr>\n",
       "  </tbody>\n",
       "</table>\n",
       "</div>"
      ],
      "text/plain": [
       "                     id          anchor          target context  score\n",
       "4770   bf3fdc2e4b7cd659   cathode layer     outer layer     G01    0.0\n",
       "2447   0795416ddc8d3926  average impact  average scores     G01    0.0\n",
       "36230  314c9dcbdb2fa01d       well pump        learning     E21    0.0"
      ]
     },
     "metadata": {},
     "output_type": "display_data"
    },
    {
     "data": {
      "text/html": [
       "<div>\n",
       "<style scoped>\n",
       "    .dataframe tbody tr th:only-of-type {\n",
       "        vertical-align: middle;\n",
       "    }\n",
       "\n",
       "    .dataframe tbody tr th {\n",
       "        vertical-align: top;\n",
       "    }\n",
       "\n",
       "    .dataframe thead th {\n",
       "        text-align: right;\n",
       "    }\n",
       "</style>\n",
       "<table border=\"1\" class=\"dataframe\">\n",
       "  <thead>\n",
       "    <tr style=\"text-align: right;\">\n",
       "      <th></th>\n",
       "      <th>id</th>\n",
       "      <th>anchor</th>\n",
       "      <th>target</th>\n",
       "      <th>context</th>\n",
       "      <th>score</th>\n",
       "    </tr>\n",
       "  </thead>\n",
       "  <tbody>\n",
       "    <tr>\n",
       "      <th>3322</th>\n",
       "      <td>51ab3848d188240d</td>\n",
       "      <td>beam traveling direction</td>\n",
       "      <td>symmetric directions</td>\n",
       "      <td>H05</td>\n",
       "      <td>0.25</td>\n",
       "    </tr>\n",
       "    <tr>\n",
       "      <th>28056</th>\n",
       "      <td>43dea5736cbaa211</td>\n",
       "      <td>return structure</td>\n",
       "      <td>spring</td>\n",
       "      <td>B62</td>\n",
       "      <td>0.25</td>\n",
       "    </tr>\n",
       "    <tr>\n",
       "      <th>16398</th>\n",
       "      <td>5103229625de2294</td>\n",
       "      <td>include retaining elements</td>\n",
       "      <td>teeth</td>\n",
       "      <td>A45</td>\n",
       "      <td>0.25</td>\n",
       "    </tr>\n",
       "  </tbody>\n",
       "</table>\n",
       "</div>"
      ],
      "text/plain": [
       "                     id                      anchor                target  \\\n",
       "3322   51ab3848d188240d    beam traveling direction  symmetric directions   \n",
       "28056  43dea5736cbaa211            return structure                spring   \n",
       "16398  5103229625de2294  include retaining elements                 teeth   \n",
       "\n",
       "      context  score  \n",
       "3322      H05   0.25  \n",
       "28056     B62   0.25  \n",
       "16398     A45   0.25  "
      ]
     },
     "metadata": {},
     "output_type": "display_data"
    },
    {
     "data": {
      "text/html": [
       "<div>\n",
       "<style scoped>\n",
       "    .dataframe tbody tr th:only-of-type {\n",
       "        vertical-align: middle;\n",
       "    }\n",
       "\n",
       "    .dataframe tbody tr th {\n",
       "        vertical-align: top;\n",
       "    }\n",
       "\n",
       "    .dataframe thead th {\n",
       "        text-align: right;\n",
       "    }\n",
       "</style>\n",
       "<table border=\"1\" class=\"dataframe\">\n",
       "  <thead>\n",
       "    <tr style=\"text-align: right;\">\n",
       "      <th></th>\n",
       "      <th>id</th>\n",
       "      <th>anchor</th>\n",
       "      <th>target</th>\n",
       "      <th>context</th>\n",
       "      <th>score</th>\n",
       "    </tr>\n",
       "  </thead>\n",
       "  <tbody>\n",
       "    <tr>\n",
       "      <th>4370</th>\n",
       "      <td>84c51476f19c79d2</td>\n",
       "      <td>carpet tiles</td>\n",
       "      <td>carpet mats</td>\n",
       "      <td>B41</td>\n",
       "      <td>0.5</td>\n",
       "    </tr>\n",
       "    <tr>\n",
       "      <th>18534</th>\n",
       "      <td>cf799ca49666b684</td>\n",
       "      <td>liquid reservoirs</td>\n",
       "      <td>liquid contained systems</td>\n",
       "      <td>F01</td>\n",
       "      <td>0.5</td>\n",
       "    </tr>\n",
       "    <tr>\n",
       "      <th>26847</th>\n",
       "      <td>effca15bd79b308b</td>\n",
       "      <td>radio wave transmission</td>\n",
       "      <td>radio wave</td>\n",
       "      <td>B29</td>\n",
       "      <td>0.5</td>\n",
       "    </tr>\n",
       "  </tbody>\n",
       "</table>\n",
       "</div>"
      ],
      "text/plain": [
       "                     id                   anchor                    target  \\\n",
       "4370   84c51476f19c79d2             carpet tiles               carpet mats   \n",
       "18534  cf799ca49666b684        liquid reservoirs  liquid contained systems   \n",
       "26847  effca15bd79b308b  radio wave transmission                radio wave   \n",
       "\n",
       "      context  score  \n",
       "4370      B41    0.5  \n",
       "18534     F01    0.5  \n",
       "26847     B29    0.5  "
      ]
     },
     "metadata": {},
     "output_type": "display_data"
    },
    {
     "data": {
      "text/html": [
       "<div>\n",
       "<style scoped>\n",
       "    .dataframe tbody tr th:only-of-type {\n",
       "        vertical-align: middle;\n",
       "    }\n",
       "\n",
       "    .dataframe tbody tr th {\n",
       "        vertical-align: top;\n",
       "    }\n",
       "\n",
       "    .dataframe thead th {\n",
       "        text-align: right;\n",
       "    }\n",
       "</style>\n",
       "<table border=\"1\" class=\"dataframe\">\n",
       "  <thead>\n",
       "    <tr style=\"text-align: right;\">\n",
       "      <th></th>\n",
       "      <th>id</th>\n",
       "      <th>anchor</th>\n",
       "      <th>target</th>\n",
       "      <th>context</th>\n",
       "      <th>score</th>\n",
       "    </tr>\n",
       "  </thead>\n",
       "  <tbody>\n",
       "    <tr>\n",
       "      <th>19290</th>\n",
       "      <td>b24c5ef62e981481</td>\n",
       "      <td>map display system</td>\n",
       "      <td>navigation setting system</td>\n",
       "      <td>G09</td>\n",
       "      <td>0.75</td>\n",
       "    </tr>\n",
       "    <tr>\n",
       "      <th>29204</th>\n",
       "      <td>98e0b18b246ece36</td>\n",
       "      <td>scorch</td>\n",
       "      <td>grilling heat</td>\n",
       "      <td>C08</td>\n",
       "      <td>0.75</td>\n",
       "    </tr>\n",
       "    <tr>\n",
       "      <th>16297</th>\n",
       "      <td>9e80acf4094d38bd</td>\n",
       "      <td>implement with plurality</td>\n",
       "      <td>perform with plurality</td>\n",
       "      <td>A01</td>\n",
       "      <td>0.75</td>\n",
       "    </tr>\n",
       "  </tbody>\n",
       "</table>\n",
       "</div>"
      ],
      "text/plain": [
       "                     id                    anchor                     target  \\\n",
       "19290  b24c5ef62e981481        map display system  navigation setting system   \n",
       "29204  98e0b18b246ece36                    scorch              grilling heat   \n",
       "16297  9e80acf4094d38bd  implement with plurality     perform with plurality   \n",
       "\n",
       "      context  score  \n",
       "19290     G09   0.75  \n",
       "29204     C08   0.75  \n",
       "16297     A01   0.75  "
      ]
     },
     "metadata": {},
     "output_type": "display_data"
    },
    {
     "data": {
      "text/html": [
       "<div>\n",
       "<style scoped>\n",
       "    .dataframe tbody tr th:only-of-type {\n",
       "        vertical-align: middle;\n",
       "    }\n",
       "\n",
       "    .dataframe tbody tr th {\n",
       "        vertical-align: top;\n",
       "    }\n",
       "\n",
       "    .dataframe thead th {\n",
       "        text-align: right;\n",
       "    }\n",
       "</style>\n",
       "<table border=\"1\" class=\"dataframe\">\n",
       "  <thead>\n",
       "    <tr style=\"text-align: right;\">\n",
       "      <th></th>\n",
       "      <th>id</th>\n",
       "      <th>anchor</th>\n",
       "      <th>target</th>\n",
       "      <th>context</th>\n",
       "      <th>score</th>\n",
       "    </tr>\n",
       "  </thead>\n",
       "  <tbody>\n",
       "    <tr>\n",
       "      <th>35185</th>\n",
       "      <td>d6942ff7d9bddbcf</td>\n",
       "      <td>video lines</td>\n",
       "      <td>video signal line</td>\n",
       "      <td>G09</td>\n",
       "      <td>1.0</td>\n",
       "    </tr>\n",
       "    <tr>\n",
       "      <th>14696</th>\n",
       "      <td>a2d8462b917011bb</td>\n",
       "      <td>glass part</td>\n",
       "      <td>glass parts</td>\n",
       "      <td>G04</td>\n",
       "      <td>1.0</td>\n",
       "    </tr>\n",
       "    <tr>\n",
       "      <th>19355</th>\n",
       "      <td>8401a36afab2f2e1</td>\n",
       "      <td>mat sections</td>\n",
       "      <td>mat section</td>\n",
       "      <td>A63</td>\n",
       "      <td>1.0</td>\n",
       "    </tr>\n",
       "  </tbody>\n",
       "</table>\n",
       "</div>"
      ],
      "text/plain": [
       "                     id        anchor             target context  score\n",
       "35185  d6942ff7d9bddbcf   video lines  video signal line     G09    1.0\n",
       "14696  a2d8462b917011bb    glass part        glass parts     G04    1.0\n",
       "19355  8401a36afab2f2e1  mat sections        mat section     A63    1.0"
      ]
     },
     "metadata": {},
     "output_type": "display_data"
    }
   ],
   "source": [
    "for x in np.linspace(0, 1, 5):\n",
    "    display(df_train[df_train.score == x].sample(3, random_state=1))"
   ]
  },
  {
   "cell_type": "code",
   "execution_count": 46,
   "metadata": {},
   "outputs": [],
   "source": [
    "# Add context codes to df_train\n",
    "df_train['title'] = df_train['context'].map(lambda x: df_titles[df_titles.code == x]['title'])"
   ]
  },
  {
   "cell_type": "code",
   "execution_count": 47,
   "metadata": {},
   "outputs": [],
   "source": [
    "# Calculate phrase lengths\n",
    "df_train['anchor_length'] = df_train['anchor'].apply(lambda x: len(x.split(' ')))\n",
    "df_train['target_length'] = df_train['target'].apply(lambda x: len(x.split(' ')))\n",
    "\n",
    "df_train['unique_anchor_length'] = df_train['anchor'].apply(lambda x: len(set(x.split(' '))))\n",
    "df_train['unique_target_length'] = df_train['target'].apply(lambda x: len(set(x.split(' '))))"
   ]
  },
  {
   "cell_type": "code",
   "execution_count": 96,
   "metadata": {},
   "outputs": [
    {
     "data": {
      "text/plain": [
       "3"
      ]
     },
     "execution_count": 96,
     "metadata": {},
     "output_type": "execute_result"
    }
   ],
   "source": [
    "test = set([1, 2, 3])\n",
    "test2 = set([1, 2, 3, 4, 5, 6, 7])\n",
    "\n",
    "len(test.intersection(test2))"
   ]
  },
  {
   "cell_type": "code",
   "execution_count": 116,
   "metadata": {},
   "outputs": [],
   "source": [
    "\n",
    "def calculate_intersection(arr):\n",
    "    anchor_set = set(arr[0].split(' '))\n",
    "    target_set = set(arr[1].split(' '))\n",
    "    return len(anchor_set.intersection(target_set))\n",
    "\n",
    "# Calculate similar words\n",
    "df_train['common_words'] = df_train[['anchor', 'target']].apply(lambda x: calculate_intersection(x), axis=1)"
   ]
  },
  {
   "cell_type": "code",
   "execution_count": 117,
   "metadata": {},
   "outputs": [
    {
     "data": {
      "text/html": [
       "<div>\n",
       "<style scoped>\n",
       "    .dataframe tbody tr th:only-of-type {\n",
       "        vertical-align: middle;\n",
       "    }\n",
       "\n",
       "    .dataframe tbody tr th {\n",
       "        vertical-align: top;\n",
       "    }\n",
       "\n",
       "    .dataframe thead th {\n",
       "        text-align: right;\n",
       "    }\n",
       "</style>\n",
       "<table border=\"1\" class=\"dataframe\">\n",
       "  <thead>\n",
       "    <tr style=\"text-align: right;\">\n",
       "      <th></th>\n",
       "      <th>id</th>\n",
       "      <th>anchor</th>\n",
       "      <th>target</th>\n",
       "      <th>context</th>\n",
       "      <th>score</th>\n",
       "      <th>title</th>\n",
       "      <th>anchor_length</th>\n",
       "      <th>target_length</th>\n",
       "      <th>unique_anchor_length</th>\n",
       "      <th>unique_target_length</th>\n",
       "      <th>common_words</th>\n",
       "    </tr>\n",
       "  </thead>\n",
       "  <tbody>\n",
       "    <tr>\n",
       "      <th>0</th>\n",
       "      <td>37d61fd2272659b1</td>\n",
       "      <td>abatement</td>\n",
       "      <td>abatement of pollution</td>\n",
       "      <td>A47</td>\n",
       "      <td>0.50</td>\n",
       "      <td>9022    FURNITURE; DOMESTIC ARTICLES OR APPLIA...</td>\n",
       "      <td>1</td>\n",
       "      <td>3</td>\n",
       "      <td>1</td>\n",
       "      <td>3</td>\n",
       "      <td>1</td>\n",
       "    </tr>\n",
       "    <tr>\n",
       "      <th>1</th>\n",
       "      <td>7b9652b17b68b7a4</td>\n",
       "      <td>abatement</td>\n",
       "      <td>act of abating</td>\n",
       "      <td>A47</td>\n",
       "      <td>0.75</td>\n",
       "      <td>9022    FURNITURE; DOMESTIC ARTICLES OR APPLIA...</td>\n",
       "      <td>1</td>\n",
       "      <td>3</td>\n",
       "      <td>1</td>\n",
       "      <td>3</td>\n",
       "      <td>0</td>\n",
       "    </tr>\n",
       "    <tr>\n",
       "      <th>2</th>\n",
       "      <td>36d72442aefd8232</td>\n",
       "      <td>abatement</td>\n",
       "      <td>active catalyst</td>\n",
       "      <td>A47</td>\n",
       "      <td>0.25</td>\n",
       "      <td>9022    FURNITURE; DOMESTIC ARTICLES OR APPLIA...</td>\n",
       "      <td>1</td>\n",
       "      <td>2</td>\n",
       "      <td>1</td>\n",
       "      <td>2</td>\n",
       "      <td>0</td>\n",
       "    </tr>\n",
       "    <tr>\n",
       "      <th>3</th>\n",
       "      <td>5296b0c19e1ce60e</td>\n",
       "      <td>abatement</td>\n",
       "      <td>eliminating process</td>\n",
       "      <td>A47</td>\n",
       "      <td>0.50</td>\n",
       "      <td>9022    FURNITURE; DOMESTIC ARTICLES OR APPLIA...</td>\n",
       "      <td>1</td>\n",
       "      <td>2</td>\n",
       "      <td>1</td>\n",
       "      <td>2</td>\n",
       "      <td>0</td>\n",
       "    </tr>\n",
       "    <tr>\n",
       "      <th>4</th>\n",
       "      <td>54c1e3b9184cb5b6</td>\n",
       "      <td>abatement</td>\n",
       "      <td>forest region</td>\n",
       "      <td>A47</td>\n",
       "      <td>0.00</td>\n",
       "      <td>9022    FURNITURE; DOMESTIC ARTICLES OR APPLIA...</td>\n",
       "      <td>1</td>\n",
       "      <td>2</td>\n",
       "      <td>1</td>\n",
       "      <td>2</td>\n",
       "      <td>0</td>\n",
       "    </tr>\n",
       "    <tr>\n",
       "      <th>...</th>\n",
       "      <td>...</td>\n",
       "      <td>...</td>\n",
       "      <td>...</td>\n",
       "      <td>...</td>\n",
       "      <td>...</td>\n",
       "      <td>...</td>\n",
       "      <td>...</td>\n",
       "      <td>...</td>\n",
       "      <td>...</td>\n",
       "      <td>...</td>\n",
       "      <td>...</td>\n",
       "    </tr>\n",
       "    <tr>\n",
       "      <th>36468</th>\n",
       "      <td>8e1386cbefd7f245</td>\n",
       "      <td>wood article</td>\n",
       "      <td>wooden article</td>\n",
       "      <td>B44</td>\n",
       "      <td>1.00</td>\n",
       "      <td>61546    DECORATIVE ARTS\n",
       "Name: title, dtype: o...</td>\n",
       "      <td>2</td>\n",
       "      <td>2</td>\n",
       "      <td>2</td>\n",
       "      <td>2</td>\n",
       "      <td>1</td>\n",
       "    </tr>\n",
       "    <tr>\n",
       "      <th>36469</th>\n",
       "      <td>42d9e032d1cd3242</td>\n",
       "      <td>wood article</td>\n",
       "      <td>wooden box</td>\n",
       "      <td>B44</td>\n",
       "      <td>0.50</td>\n",
       "      <td>61546    DECORATIVE ARTS\n",
       "Name: title, dtype: o...</td>\n",
       "      <td>2</td>\n",
       "      <td>2</td>\n",
       "      <td>2</td>\n",
       "      <td>2</td>\n",
       "      <td>0</td>\n",
       "    </tr>\n",
       "    <tr>\n",
       "      <th>36470</th>\n",
       "      <td>208654ccb9e14fa3</td>\n",
       "      <td>wood article</td>\n",
       "      <td>wooden handle</td>\n",
       "      <td>B44</td>\n",
       "      <td>0.50</td>\n",
       "      <td>61546    DECORATIVE ARTS\n",
       "Name: title, dtype: o...</td>\n",
       "      <td>2</td>\n",
       "      <td>2</td>\n",
       "      <td>2</td>\n",
       "      <td>2</td>\n",
       "      <td>0</td>\n",
       "    </tr>\n",
       "    <tr>\n",
       "      <th>36471</th>\n",
       "      <td>756ec035e694722b</td>\n",
       "      <td>wood article</td>\n",
       "      <td>wooden material</td>\n",
       "      <td>B44</td>\n",
       "      <td>0.75</td>\n",
       "      <td>61546    DECORATIVE ARTS\n",
       "Name: title, dtype: o...</td>\n",
       "      <td>2</td>\n",
       "      <td>2</td>\n",
       "      <td>2</td>\n",
       "      <td>2</td>\n",
       "      <td>0</td>\n",
       "    </tr>\n",
       "    <tr>\n",
       "      <th>36472</th>\n",
       "      <td>8d135da0b55b8c88</td>\n",
       "      <td>wood article</td>\n",
       "      <td>wooden substrate</td>\n",
       "      <td>B44</td>\n",
       "      <td>0.50</td>\n",
       "      <td>61546    DECORATIVE ARTS\n",
       "Name: title, dtype: o...</td>\n",
       "      <td>2</td>\n",
       "      <td>2</td>\n",
       "      <td>2</td>\n",
       "      <td>2</td>\n",
       "      <td>0</td>\n",
       "    </tr>\n",
       "  </tbody>\n",
       "</table>\n",
       "<p>36473 rows × 11 columns</p>\n",
       "</div>"
      ],
      "text/plain": [
       "                     id        anchor                  target context  score  \\\n",
       "0      37d61fd2272659b1     abatement  abatement of pollution     A47   0.50   \n",
       "1      7b9652b17b68b7a4     abatement          act of abating     A47   0.75   \n",
       "2      36d72442aefd8232     abatement         active catalyst     A47   0.25   \n",
       "3      5296b0c19e1ce60e     abatement     eliminating process     A47   0.50   \n",
       "4      54c1e3b9184cb5b6     abatement           forest region     A47   0.00   \n",
       "...                 ...           ...                     ...     ...    ...   \n",
       "36468  8e1386cbefd7f245  wood article          wooden article     B44   1.00   \n",
       "36469  42d9e032d1cd3242  wood article              wooden box     B44   0.50   \n",
       "36470  208654ccb9e14fa3  wood article           wooden handle     B44   0.50   \n",
       "36471  756ec035e694722b  wood article         wooden material     B44   0.75   \n",
       "36472  8d135da0b55b8c88  wood article        wooden substrate     B44   0.50   \n",
       "\n",
       "                                                   title  anchor_length  \\\n",
       "0      9022    FURNITURE; DOMESTIC ARTICLES OR APPLIA...              1   \n",
       "1      9022    FURNITURE; DOMESTIC ARTICLES OR APPLIA...              1   \n",
       "2      9022    FURNITURE; DOMESTIC ARTICLES OR APPLIA...              1   \n",
       "3      9022    FURNITURE; DOMESTIC ARTICLES OR APPLIA...              1   \n",
       "4      9022    FURNITURE; DOMESTIC ARTICLES OR APPLIA...              1   \n",
       "...                                                  ...            ...   \n",
       "36468  61546    DECORATIVE ARTS\n",
       "Name: title, dtype: o...              2   \n",
       "36469  61546    DECORATIVE ARTS\n",
       "Name: title, dtype: o...              2   \n",
       "36470  61546    DECORATIVE ARTS\n",
       "Name: title, dtype: o...              2   \n",
       "36471  61546    DECORATIVE ARTS\n",
       "Name: title, dtype: o...              2   \n",
       "36472  61546    DECORATIVE ARTS\n",
       "Name: title, dtype: o...              2   \n",
       "\n",
       "       target_length  unique_anchor_length  unique_target_length  common_words  \n",
       "0                  3                     1                     3             1  \n",
       "1                  3                     1                     3             0  \n",
       "2                  2                     1                     2             0  \n",
       "3                  2                     1                     2             0  \n",
       "4                  2                     1                     2             0  \n",
       "...              ...                   ...                   ...           ...  \n",
       "36468              2                     2                     2             1  \n",
       "36469              2                     2                     2             0  \n",
       "36470              2                     2                     2             0  \n",
       "36471              2                     2                     2             0  \n",
       "36472              2                     2                     2             0  \n",
       "\n",
       "[36473 rows x 11 columns]"
      ]
     },
     "execution_count": 117,
     "metadata": {},
     "output_type": "execute_result"
    }
   ],
   "source": [
    "df_train"
   ]
  },
  {
   "cell_type": "markdown",
   "metadata": {},
   "source": [
    "### Summary Statistics"
   ]
  },
  {
   "cell_type": "code",
   "execution_count": 40,
   "metadata": {},
   "outputs": [
    {
     "name": "stdout",
     "output_type": "stream",
     "text": [
      "# of Unique Context Codes: 106\n"
     ]
    }
   ],
   "source": [
    "# Number of unique context codes\n",
    "print('# of Unique Context Codes: %i' % len(df_train['context'].unique()))"
   ]
  },
  {
   "cell_type": "code",
   "execution_count": 38,
   "metadata": {},
   "outputs": [
    {
     "name": "stdout",
     "output_type": "stream",
     "text": [
      "# of Unique Anchor Phrases: 733\n",
      "# of Unique Target Phrases: 29340\n"
     ]
    }
   ],
   "source": [
    "# Number of unique phrases\n",
    "print('# of Unique Anchor Phrases: %i' % len(df_train['anchor'].unique()))\n",
    "print('# of Unique Target Phrases: %i' % len(df_train['target'].unique()))"
   ]
  },
  {
   "cell_type": "code",
   "execution_count": 29,
   "metadata": {},
   "outputs": [
    {
     "name": "stdout",
     "output_type": "stream",
     "text": [
      "# of Unique Anchor Words: 1113\n",
      "# of Unique Target Words: 8906\n"
     ]
    }
   ],
   "source": [
    "# Number of unique words\n",
    "anchor_concat = ' '.join(df_train['anchor'])\n",
    "target_concat = ' '.join(df_train['target'])\n",
    "\n",
    "print('# of Unique Anchor Words: %i' % len(set(anchor_concat.split(' '))))\n",
    "print('# of Unique Target Words: %i' % len(set(target_concat.split(' '))))"
   ]
  },
  {
   "cell_type": "code",
   "execution_count": 138,
   "metadata": {},
   "outputs": [
    {
     "data": {
      "text/html": [
       "<div>\n",
       "<style scoped>\n",
       "    .dataframe tbody tr th:only-of-type {\n",
       "        vertical-align: middle;\n",
       "    }\n",
       "\n",
       "    .dataframe tbody tr th {\n",
       "        vertical-align: top;\n",
       "    }\n",
       "\n",
       "    .dataframe thead th {\n",
       "        text-align: right;\n",
       "    }\n",
       "</style>\n",
       "<table border=\"1\" class=\"dataframe\">\n",
       "  <thead>\n",
       "    <tr style=\"text-align: right;\">\n",
       "      <th></th>\n",
       "      <th>anchor_length</th>\n",
       "      <th>target_length</th>\n",
       "      <th>unique_anchor_length</th>\n",
       "      <th>unique_target_length</th>\n",
       "      <th>common_words</th>\n",
       "    </tr>\n",
       "  </thead>\n",
       "  <tbody>\n",
       "    <tr>\n",
       "      <th>count</th>\n",
       "      <td>36473.000000</td>\n",
       "      <td>36473.000000</td>\n",
       "      <td>36473.000000</td>\n",
       "      <td>36473.000000</td>\n",
       "      <td>36473.000000</td>\n",
       "    </tr>\n",
       "    <tr>\n",
       "      <th>mean</th>\n",
       "      <td>2.177885</td>\n",
       "      <td>2.171195</td>\n",
       "      <td>2.177885</td>\n",
       "      <td>2.169111</td>\n",
       "      <td>0.637458</td>\n",
       "    </tr>\n",
       "    <tr>\n",
       "      <th>std</th>\n",
       "      <td>0.641176</td>\n",
       "      <td>0.849613</td>\n",
       "      <td>0.641176</td>\n",
       "      <td>0.844400</td>\n",
       "      <td>0.735560</td>\n",
       "    </tr>\n",
       "    <tr>\n",
       "      <th>min</th>\n",
       "      <td>1.000000</td>\n",
       "      <td>1.000000</td>\n",
       "      <td>1.000000</td>\n",
       "      <td>1.000000</td>\n",
       "      <td>0.000000</td>\n",
       "    </tr>\n",
       "    <tr>\n",
       "      <th>25%</th>\n",
       "      <td>2.000000</td>\n",
       "      <td>2.000000</td>\n",
       "      <td>2.000000</td>\n",
       "      <td>2.000000</td>\n",
       "      <td>0.000000</td>\n",
       "    </tr>\n",
       "    <tr>\n",
       "      <th>50%</th>\n",
       "      <td>2.000000</td>\n",
       "      <td>2.000000</td>\n",
       "      <td>2.000000</td>\n",
       "      <td>2.000000</td>\n",
       "      <td>0.000000</td>\n",
       "    </tr>\n",
       "    <tr>\n",
       "      <th>75%</th>\n",
       "      <td>2.000000</td>\n",
       "      <td>3.000000</td>\n",
       "      <td>2.000000</td>\n",
       "      <td>3.000000</td>\n",
       "      <td>1.000000</td>\n",
       "    </tr>\n",
       "    <tr>\n",
       "      <th>max</th>\n",
       "      <td>5.000000</td>\n",
       "      <td>15.000000</td>\n",
       "      <td>5.000000</td>\n",
       "      <td>13.000000</td>\n",
       "      <td>5.000000</td>\n",
       "    </tr>\n",
       "  </tbody>\n",
       "</table>\n",
       "</div>"
      ],
      "text/plain": [
       "       anchor_length  target_length  unique_anchor_length  \\\n",
       "count   36473.000000   36473.000000          36473.000000   \n",
       "mean        2.177885       2.171195              2.177885   \n",
       "std         0.641176       0.849613              0.641176   \n",
       "min         1.000000       1.000000              1.000000   \n",
       "25%         2.000000       2.000000              2.000000   \n",
       "50%         2.000000       2.000000              2.000000   \n",
       "75%         2.000000       3.000000              2.000000   \n",
       "max         5.000000      15.000000              5.000000   \n",
       "\n",
       "       unique_target_length  common_words  \n",
       "count          36473.000000  36473.000000  \n",
       "mean               2.169111      0.637458  \n",
       "std                0.844400      0.735560  \n",
       "min                1.000000      0.000000  \n",
       "25%                2.000000      0.000000  \n",
       "50%                2.000000      0.000000  \n",
       "75%                3.000000      1.000000  \n",
       "max               13.000000      5.000000  "
      ]
     },
     "execution_count": 138,
     "metadata": {},
     "output_type": "execute_result"
    }
   ],
   "source": [
    "# Summary of phrase lengths\n",
    "df_train[['anchor_length', 'target_length', 'unique_anchor_length', 'unique_target_length', 'common_words']].describe()"
   ]
  },
  {
   "cell_type": "code",
   "execution_count": 139,
   "metadata": {},
   "outputs": [
    {
     "data": {
      "text/plain": [
       "0    18275\n",
       "1    13688\n",
       "2     4022\n",
       "3      438\n",
       "4       46\n",
       "5        4\n",
       "Name: common_words, dtype: int64"
      ]
     },
     "execution_count": 139,
     "metadata": {},
     "output_type": "execute_result"
    }
   ],
   "source": [
    "df_train['common_words'].value_counts()"
   ]
  },
  {
   "cell_type": "markdown",
   "metadata": {},
   "source": [
    "### Plots"
   ]
  },
  {
   "cell_type": "code",
   "execution_count": 88,
   "metadata": {},
   "outputs": [
    {
     "data": {
      "image/png": "[encoded data removed]",
      "text/plain": [
       "<Figure size 1000x500 with 1 Axes>"
      ]
     },
     "metadata": {},
     "output_type": "display_data"
    }
   ],
   "source": [
    "df_train[['anchor_length', 'target_length']].boxplot(figsize=(10, 5))\n",
    "ax = plt.gca()\n",
    "ax.set_title('Anchor and Target Phrase Lengths');"
   ]
  },
  {
   "cell_type": "code",
   "execution_count": 69,
   "metadata": {},
   "outputs": [
    {
     "data": {
      "image/png": "[encoded data removed]",
      "text/plain": [
       "<Figure size 1000x500 with 1 Axes>"
      ]
     },
     "metadata": {},
     "output_type": "display_data"
    }
   ],
   "source": [
    "df_train['score'].value_counts().sort_index().plot(kind='bar', figsize=(10, 5), rot=45)\n",
    "ax = plt.gca()\n",
    "ax.set_title('Score Frequency in Training Set');\n",
    "ax.set_xlabel('Semantic Similarity Score');\n",
    "ax.set_ylabel('Frequency');"
   ]
  },
  {
   "cell_type": "code",
   "execution_count": 135,
   "metadata": {},
   "outputs": [
    {
     "data": {
      "text/plain": [
       "Text(0, 0.5, '# of Common Words')"
      ]
     },
     "execution_count": 135,
     "metadata": {},
     "output_type": "execute_result"
    },
    {
     "data": {
      "image/png": "[encoded data removed]",
      "text/plain": [
       "<Figure size 1000x500 with 1 Axes>"
      ]
     },
     "metadata": {},
     "output_type": "display_data"
    }
   ],
   "source": [
    "df_train[['common_words', 'score']].groupby('score').boxplot(subplots=False, column='common_words', figsize=(10, 5));\n",
    "ax = plt.gca()\n",
    "ax.set_xticklabels(np.linspace(0, 1, 5))\n",
    "ax.set_title('Common Words b/t Anchor & Target Phrases grouped by Score');\n",
    "ax.set_xlabel('Similarity Score');\n",
    "ax.set_ylabel('# of Common Words')"
   ]
  },
  {
   "cell_type": "code",
   "execution_count": 72,
   "metadata": {},
   "outputs": [
    {
     "data": {
      "image/png": "[encoded data removed]",
      "text/plain": [
       "<Figure size 1000x500 with 1 Axes>"
      ]
     },
     "metadata": {},
     "output_type": "display_data"
    }
   ],
   "source": [
    "srs = df_train['context'].value_counts().sort_values(ascending=False)[:10]\n",
    "srs.plot(kind='bar', figsize=(10, 5), rot=45)\n",
    "ax = plt.gca()\n",
    "ax.set_title('Top 10 Context Codes in Training Set');\n",
    "ax.set_xlabel('Context Code');\n",
    "ax.set_ylabel('Frequency');"
   ]
  },
  {
   "cell_type": "code",
   "execution_count": 87,
   "metadata": {},
   "outputs": [
    {
     "name": "stdout",
     "output_type": "stream",
     "text": [
      "H01: BASIC ELECTRIC ELEMENTS\n",
      "H04: ELECTRIC COMMUNICATION TECHNIQUE\n",
      "G01: MEASURING; TESTING\n",
      "A61: MEDICAL OR VETERINARY SCIENCE; HYGIENE\n",
      "F16: ENGINEERING ELEMENTS AND UNITS; GENERAL MEASURES FOR PRODUCING AND MAINTAINING EFFECTIVE FUNCTIONING OF MACHINES OR INSTALLATIONS; THERMAL INSULATION IN GENERAL\n",
      "C07: ORGANIC CHEMISTRY\n",
      "G06: COMPUTING; CALCULATING; COUNTING\n",
      "B60: VEHICLES IN GENERAL\n",
      "B01: PHYSICAL OR CHEMICAL PROCESSES OR APPARATUS IN GENERAL\n",
      "G02: OPTICS\n"
     ]
    }
   ],
   "source": [
    "for code in srs.index:\n",
    "    print('{0}: {1}'.format(code, df_titles.loc[df_titles.code == code, 'title'].item()))"
   ]
  },
  {
   "cell_type": "markdown",
   "metadata": {},
   "source": [
    "__Observations__\n",
    "\n",
    "* The phrases themselves are relatively short (2 +/- 1 words)\n",
    "\n",
    "* Target phrases have much more variety; ~9K unique words, with most target phrases being unique in the entire training dataset (~29K/36K are unique phrases)\n",
    "\n",
    "* Anchor phrases seem more like 'categories'; repeated much more often (~700 unique phrases) and contain fewer unique words (~1K)\n",
    "\n",
    "* Majority of phrase pairs do not have any words in common. \n",
    "\n",
    "* Phrase pairs with words in common tend to have, on average, a higher similarity score, though there exist contradictions to this generalization (e.g. phrase pairs with alot of words in common but low similarity score).\n",
    "\n",
    "* Dataset spans many professions; 106 patent classification codes present\n",
    "\n",
    "* Dataset is skewed toward phrase pairs that are unsimilar (e.g. low similarity scores)"
   ]
  }
 ],
 "metadata": {
  "kernelspec": {
   "display_name": "Python 3.9.13 ('nlp')",
   "language": "python",
   "name": "python3"
  },
  "language_info": {
   "codemirror_mode": {
    "name": "ipython",
    "version": 3
   },
   "file_extension": ".py",
   "mimetype": "text/x-python",
   "name": "python",
   "nbconvert_exporter": "python",
   "pygments_lexer": "ipython3",
   "version": "3.9.13"
  },
  "orig_nbformat": 4,
  "vscode": {
   "interpreter": {
    "hash": "48d39e6237c53a792bc3d9d6b208352e55e343682fa024294b0ea54c5b55a601"
   }
  }
 },
 "nbformat": 4,
 "nbformat_minor": 2
}
